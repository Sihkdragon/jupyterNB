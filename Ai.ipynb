{
 "cells": [
  {
   "cell_type": "code",
   "execution_count": 24,
   "id": "d0a44c2b-ff42-4d72-a6d7-41d4750eb7a4",
   "metadata": {},
   "outputs": [
    {
     "name": "stdout",
     "output_type": "stream",
     "text": [
      "<class 'pandas.core.frame.DataFrame'>\n"
     ]
    }
   ],
   "source": [
    "import pandas\n",
    "import matplotlib.pyplot as plt\n",
    "import seaborn as sns\n",
    "csvpath = \"d:/Code/PYTHON/AI/naive-baiyes/Program/data.csv\"\n",
    "data = pandas.read_csv(csvpath)\n",
    "print(type(data))"
   ]
  },
  {
   "cell_type": "code",
   "execution_count": 25,
   "id": "b6be7050-144a-4e9c-9122-9ff1c431d41e",
   "metadata": {},
   "outputs": [],
   "source": [
    "def classify(data):\n",
    "    print(data)"
   ]
  },
  {
   "cell_type": "code",
   "execution_count": 43,
   "id": "6b5a9e02-9dca-4eec-a8e9-b7ac645635ca",
   "metadata": {},
   "outputs": [
    {
     "name": "stdout",
     "output_type": "stream",
     "text": [
      "junior =  12 supervisor =  18 manager =  0\n"
     ]
    }
   ],
   "source": [
    "data_masakerja = data['masakerja']\n",
    "junior = 0\n",
    "supervisor = 0\n",
    "manager = 0\n",
    "for masa in data_masakerja:\n",
    "    if masa <= 10:\n",
    "        junior = junior + 1\n",
    "    if masa > 10 and masa <= 20:\n",
    "        supervisor = supervisor + 1\n",
    "    if masa > 30:\n",
    "        manager = manager + 1\n",
    "print(\"junior = \",junior, \"supervisor = \",supervisor, \"manager = \",manager)"
   ]
  },
  {
   "cell_type": "code",
   "execution_count": 47,
   "id": "9089119c",
   "metadata": {},
   "outputs": [
    {
     "name": "stdout",
     "output_type": "stream",
     "text": [
      "tua =  10 parubaya =  4 muda =  19\n"
     ]
    }
   ],
   "source": [
    "data_usia = data['usia']\n",
    "tua = 0\n",
    "parubaya = 0\n",
    "muda = 0\n",
    "for usia in data_usia:\n",
    "    if usia >=46 and usia <= 55:\n",
    "        tua += 1\n",
    "    if usia >= 36 and usia <= 45:\n",
    "        parubaya += 1\n",
    "    if  usia >= 25 and usia <= 35:\n",
    "        muda += 1\n",
    "print(\"tua = \", tua,\"parubaya = \", parubaya, \"muda = \",muda)"
   ]
  },
  {
   "cell_type": "code",
   "execution_count": 49,
   "id": "7467faf9",
   "metadata": {},
   "outputs": [
    {
     "name": "stdout",
     "output_type": "stream",
     "text": [
      "sangat_baik =  14 baik =  10 kurang =  9\n"
     ]
    }
   ],
   "source": [
    "data_nilaipel = data['nilaipelatihan']\n",
    "sangat_baik = 0\n",
    "baik = 0\n",
    "kurang = 0\n",
    "for nilaipel in data_nilaipel:\n",
    "    if nilaipel >=81 and nilaipel <= 100:\n",
    "        sangat_baik += 1\n",
    "    if nilaipel >= 66 and nilaipel <= 80:\n",
    "        baik += 1\n",
    "    if  nilaipel >= 45 and nilaipel <= 65:\n",
    "        kurang += 1\n",
    "print(\"sangat_baik = \", sangat_baik,\"baik = \", baik, \"kurang = \",kurang)"
   ]
  },
  {
   "cell_type": "code",
   "execution_count": 50,
   "id": "c4b8cb7a",
   "metadata": {},
   "outputs": [
    {
     "name": "stdout",
     "output_type": "stream",
     "text": [
      "sangat_baik =  20 baik =  7 kurang =  6\n"
     ]
    }
   ],
   "source": [
    "data_nilaiker = data['nilaikerja']\n",
    "sangat_baik = 0\n",
    "baik = 0\n",
    "kurang = 0\n",
    "for nilaiker in data_nilaiker:\n",
    "    if nilaiker >=81 and nilaiker <= 100:\n",
    "        sangat_baik += 1\n",
    "    if nilaiker >= 66 and nilaiker <= 80:\n",
    "        baik += 1\n",
    "    if  nilaiker >= 45 and nilaiker <= 65:\n",
    "        kurang += 1\n",
    "print(\"sangat_baik = \", sangat_baik,\"baik = \", baik, \"kurang = \",kurang)"
   ]
  }
 ],
 "metadata": {
  "kernelspec": {
   "display_name": "Python 3 (ipykernel)",
   "language": "python",
   "name": "python3"
  },
  "language_info": {
   "codemirror_mode": {
    "name": "ipython",
    "version": 3
   },
   "file_extension": ".py",
   "mimetype": "text/x-python",
   "name": "python",
   "nbconvert_exporter": "python",
   "pygments_lexer": "ipython3",
   "version": "3.10.2"
  }
 },
 "nbformat": 4,
 "nbformat_minor": 5
}
