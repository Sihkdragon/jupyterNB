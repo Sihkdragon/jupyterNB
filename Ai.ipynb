{
 "cells": [
  {
   "cell_type": "code",
   "execution_count": 5,
   "id": "d0a44c2b-ff42-4d72-a6d7-41d4750eb7a4",
   "metadata": {},
   "outputs": [
    {
     "name": "stdout",
     "output_type": "stream",
     "text": [
      "   namapegawai  masakerja  usia  nilaipelatihan  nilaikerja hasilevaluasi\n",
      "0    ALI TOPAN         10    35              71          93       PROMOSI\n",
      "1      SARTIKA         15    32              82          62       PROMOSI\n",
      "2         MIKA          5    25              91          88        MUTASI\n",
      "3         RUBY          8    30              72          96       PROMOSI\n",
      "4   BIAN UTAMI         20    45              59          98        MUTASI\n",
      "5     RIANDARI         17    42              97          62        MUTASI\n",
      "6    ULI ALWAN         23    52              97          73       PROMOSI\n",
      "7       KANITA         18    48              50          84       PROMOSI\n",
      "8       SARINI          2    32              60          72           PHK\n",
      "9       RAFINA          7    37              81          99       PROMOSI\n",
      "10     BUDIMAN         15    48              69          92        MUTASI\n",
      "11     SARTIKA         15    32              87          85       PROMOSI\n",
      "12        MIKA          5    25              70          90        MUTASI\n",
      "13        RUBY          8    30              77          77           PHK\n",
      "14      KANITA         18    47              84          87       PROMOSI\n",
      "15      SARITA          2    32              87          51           PHK\n",
      "16      BUDIAN         15    40              76          76        MUTASI\n",
      "17     SARTIKA         11    32              91          94       PROMOSI\n",
      "18        MIKO          6    25              59          66        MUTASI\n",
      "19    RIANDANI         17    48              88          53           PHK\n",
      "20     ULILWAN         24    52              67          96        MUTASI\n",
      "21      KANISA         18    48              61          60       PROMOSI\n",
      "22      SARINA          3    32              51          52           PHK\n",
      "23     BUDIANA         15    48              66          93        MUTASI\n",
      "24     SANTIKA         16    32              93          81       PROMOSI\n",
      "25      SAFIRA         11    32              82          69       PROMOSI\n",
      "26        MIRA         26    50              95          94        MUTASI\n",
      "27      RIANTI         17    48              85          83           PHK\n",
      "28        CICI         11    32              73          95       PROMOSI\n",
      "29         INA          6    25              76          75        MUTASI\n",
      "30        MIMA         11    32              58          82       PROMOSI\n",
      "31        NAYA          6    25              54          97        MUTASI\n",
      "32      SARINA         11    32              60          87       PROMOSI\n"
     ]
    }
   ],
   "source": [
    "import pandas\n",
    "import matplotlib.pyplot as plt\n",
    "import seaborn as sns\n",
    "csvpath = \"d:/Code/PYTHON/AI/Program/data.csv\"\n",
    "data = pandas.read_csv(csvpath)\n",
    "print(data)"
   ]
  },
  {
   "cell_type": "code",
   "execution_count": 6,
   "id": "b6be7050-144a-4e9c-9122-9ff1c431d41e",
   "metadata": {},
   "outputs": [
    {
     "data": {
      "text/plain": [
       "['Junior',\n",
       " 'Supervisor',\n",
       " 'Junior',\n",
       " 'Junior',\n",
       " 'Supervisor',\n",
       " 'Supervisor',\n",
       " 'Manager',\n",
       " 'Supervisor',\n",
       " 'Junior',\n",
       " 'Junior',\n",
       " 'Supervisor',\n",
       " 'Supervisor',\n",
       " 'Junior',\n",
       " 'Junior',\n",
       " 'Supervisor',\n",
       " 'Junior',\n",
       " 'Supervisor',\n",
       " 'Supervisor',\n",
       " 'Junior',\n",
       " 'Supervisor',\n",
       " 'Manager',\n",
       " 'Supervisor',\n",
       " 'Junior',\n",
       " 'Supervisor',\n",
       " 'Supervisor',\n",
       " 'Supervisor',\n",
       " 'Manager',\n",
       " 'Supervisor',\n",
       " 'Supervisor',\n",
       " 'Junior',\n",
       " 'Supervisor',\n",
       " 'Junior',\n",
       " 'Supervisor']"
      ]
     },
     "execution_count": 6,
     "metadata": {},
     "output_type": "execute_result"
    }
   ],
   "source": [
    "def getClassifyMasaKerja(data_masakerja = data['masakerja']):\n",
    "    dataClassifyMasaKerja = []\n",
    "    junior = 0\n",
    "    supervisor = 0\n",
    "    manager = 0\n",
    "    i = 0\n",
    "    for masa in data_masakerja:\n",
    "        if masa <= 10:\n",
    "            junior += 1\n",
    "            dataClassifyMasaKerja.append(\"Junior\")\n",
    "            i+=1\n",
    "        if masa > 10 and masa <= 20:\n",
    "            supervisor += 1\n",
    "            dataClassifyMasaKerja.append(\"Supervisor\")\n",
    "            i+=1\n",
    "        if masa >= 21 and masa <= 30:\n",
    "            manager += 1\n",
    "            dataClassifyMasaKerja.append(\"Manager\")\n",
    "            i+=1\n",
    "    return dataClassifyMasaKerja\n",
    "getClassifyMasaKerja()"
   ]
  },
  {
   "cell_type": "code",
   "execution_count": 7,
   "id": "9e80beae",
   "metadata": {},
   "outputs": [
    {
     "data": {
      "text/plain": [
       "['Muda',\n",
       " 'Muda',\n",
       " 'Muda',\n",
       " 'Muda',\n",
       " 'Paruhbaya',\n",
       " 'Paruhbaya',\n",
       " 'Tua',\n",
       " 'Tua',\n",
       " 'Muda',\n",
       " 'Paruhbaya',\n",
       " 'Tua',\n",
       " 'Muda',\n",
       " 'Muda',\n",
       " 'Muda',\n",
       " 'Tua',\n",
       " 'Muda',\n",
       " 'Paruhbaya',\n",
       " 'Muda',\n",
       " 'Muda',\n",
       " 'Tua',\n",
       " 'Tua',\n",
       " 'Tua',\n",
       " 'Muda',\n",
       " 'Tua',\n",
       " 'Muda',\n",
       " 'Muda',\n",
       " 'Tua',\n",
       " 'Tua',\n",
       " 'Muda',\n",
       " 'Muda',\n",
       " 'Muda',\n",
       " 'Muda',\n",
       " 'Muda']"
      ]
     },
     "execution_count": 7,
     "metadata": {},
     "output_type": "execute_result"
    }
   ],
   "source": [
    "def getClassifyUsia(data_usia = data['usia']):\n",
    "    dataClassifyUsia =  []\n",
    "    Tua = 0\n",
    "    Parubaya = 0\n",
    "    Muda = 0\n",
    "    i = 0\n",
    "    for usia in data_usia:\n",
    "        if usia >= 46 and usia <= 55:\n",
    "            Tua += 1\n",
    "            dataClassifyUsia.append(\"Tua\")\n",
    "            i+=1\n",
    "        if usia >= 36 and usia <= 45:\n",
    "            Parubaya += 1\n",
    "            dataClassifyUsia.append(\"Paruhbaya\")\n",
    "            i+=1\n",
    "        if usia >= 25 and usia <= 35:\n",
    "            Muda += 1\n",
    "            dataClassifyUsia.append(\"Muda\")\n",
    "            i+=1\n",
    "    return dataClassifyUsia\n",
    "getClassifyUsia()"
   ]
  },
  {
   "cell_type": "code",
   "execution_count": 8,
   "id": "7964a532",
   "metadata": {},
   "outputs": [
    {
     "data": {
      "text/plain": [
       "['Baik',\n",
       " 'Sangat Baik',\n",
       " 'Sangat Baik',\n",
       " 'Baik',\n",
       " 'Kurang',\n",
       " 'Sangat Baik',\n",
       " 'Sangat Baik',\n",
       " 'Kurang',\n",
       " 'Kurang',\n",
       " 'Sangat Baik',\n",
       " 'Baik',\n",
       " 'Sangat Baik',\n",
       " 'Baik',\n",
       " 'Baik',\n",
       " 'Sangat Baik',\n",
       " 'Sangat Baik',\n",
       " 'Baik',\n",
       " 'Sangat Baik',\n",
       " 'Kurang',\n",
       " 'Sangat Baik',\n",
       " 'Baik',\n",
       " 'Kurang',\n",
       " 'Kurang',\n",
       " 'Baik',\n",
       " 'Sangat Baik',\n",
       " 'Sangat Baik',\n",
       " 'Sangat Baik',\n",
       " 'Sangat Baik',\n",
       " 'Baik',\n",
       " 'Baik',\n",
       " 'Kurang',\n",
       " 'Kurang',\n",
       " 'Kurang']"
      ]
     },
     "execution_count": 8,
     "metadata": {},
     "output_type": "execute_result"
    }
   ],
   "source": [
    "def getClassifyNilaiPelatihan(data_nilaipel = data['nilaipelatihan']):\n",
    "    dataClassifyNilaiPelatihan = []\n",
    "    sangat_baik = 0\n",
    "    baik = 0\n",
    "    kurang = 0\n",
    "    for nilaipel in data_nilaipel:\n",
    "        if nilaipel >=81 and nilaipel <= 100:\n",
    "            sangat_baik += 1\n",
    "            dataClassifyNilaiPelatihan.append(\"Sangat Baik\")\n",
    "        if nilaipel >= 66 and nilaipel <= 80:\n",
    "            baik += 1\n",
    "            dataClassifyNilaiPelatihan.append(\"Baik\")\n",
    "        if  nilaipel >= 45 and nilaipel <= 65:\n",
    "            kurang += 1\n",
    "            dataClassifyNilaiPelatihan.append(\"Kurang\")\n",
    "    return dataClassifyNilaiPelatihan\n",
    "getClassifyNilaiPelatihan()"
   ]
  },
  {
   "cell_type": "code",
   "execution_count": null,
   "id": "c4b8cb7a",
   "metadata": {},
   "outputs": [],
   "source": [
    "def getClassifyNilaiKinerja(data_nilaiker = data['nilaikerja']):\n",
    "    dataClassifyNilaiKinerja = []\n",
    "    sangat_baik = 0\n",
    "    baik = 0\n",
    "    kurang = 0\n",
    "    for nilaiker in data_nilaiker:\n",
    "        if nilaiker >=81 and nilaiker <= 100:\n",
    "            sangat_baik += 1\n",
    "            dataClassifyNilaiKinerja.append(\"Sangat Baik\")\n",
    "        if nilaiker >= 66 and nilaiker <= 80:\n",
    "            baik += 1\n",
    "            dataClassifyNilaiKinerja.append(\"Baik\")\n",
    "        if  nilaiker >= 45 and nilaiker <= 65:\n",
    "            kurang += 1\n",
    "            dataClassifyNilaiKinerja.append(\"Kurang\")\n",
    "    return dataClassifyNilaiKinerja\n",
    "getClassifyNilaiKinerja()"
   ]
  },
  {
   "cell_type": "code",
   "execution_count": 41,
   "id": "0d7ef587",
   "metadata": {},
   "outputs": [
    {
     "name": "stdout",
     "output_type": "stream",
     "text": [
      "   NamaPegawai   MasaKerja       Usia NilaiPelatihan   NilaiKerja  \\\n",
      "0    ALI TOPAN      Junior       Muda           Baik  Sangat Baik   \n",
      "1      SARTIKA  Supervisor       Muda    Sangat Baik       Kurang   \n",
      "2         MIKA      Junior       Muda    Sangat Baik  Sangat Baik   \n",
      "3         RUBY      Junior       Muda           Baik  Sangat Baik   \n",
      "4   BIAN UTAMI  Supervisor  Paruhbaya         Kurang  Sangat Baik   \n",
      "5     RIANDARI  Supervisor  Paruhbaya    Sangat Baik       Kurang   \n",
      "6    ULI ALWAN     Manager        Tua    Sangat Baik         Baik   \n",
      "7       KANITA  Supervisor        Tua         Kurang  Sangat Baik   \n",
      "8       SARINI      Junior       Muda         Kurang         Baik   \n",
      "9       RAFINA      Junior  Paruhbaya    Sangat Baik  Sangat Baik   \n",
      "10     BUDIMAN  Supervisor        Tua           Baik  Sangat Baik   \n",
      "11     SARTIKA  Supervisor       Muda    Sangat Baik  Sangat Baik   \n",
      "12        MIKA      Junior       Muda           Baik  Sangat Baik   \n",
      "13        RUBY      Junior       Muda           Baik         Baik   \n",
      "14      KANITA  Supervisor        Tua    Sangat Baik  Sangat Baik   \n",
      "15      SARITA      Junior       Muda    Sangat Baik       Kurang   \n",
      "16      BUDIAN  Supervisor  Paruhbaya           Baik         Baik   \n",
      "17     SARTIKA  Supervisor       Muda    Sangat Baik  Sangat Baik   \n",
      "18        MIKO      Junior       Muda         Kurang         Baik   \n",
      "19    RIANDANI  Supervisor        Tua    Sangat Baik       Kurang   \n",
      "20     ULILWAN     Manager        Tua           Baik  Sangat Baik   \n",
      "21      KANISA  Supervisor        Tua         Kurang       Kurang   \n",
      "22      SARINA      Junior       Muda         Kurang       Kurang   \n",
      "23     BUDIANA  Supervisor        Tua           Baik  Sangat Baik   \n",
      "24     SANTIKA  Supervisor       Muda    Sangat Baik  Sangat Baik   \n",
      "25      SAFIRA  Supervisor       Muda    Sangat Baik         Baik   \n",
      "26        MIRA     Manager        Tua    Sangat Baik  Sangat Baik   \n",
      "27      RIANTI  Supervisor        Tua    Sangat Baik  Sangat Baik   \n",
      "28        CICI  Supervisor       Muda           Baik  Sangat Baik   \n",
      "29         INA      Junior       Muda           Baik         Baik   \n",
      "30        MIMA  Supervisor       Muda         Kurang  Sangat Baik   \n",
      "31        NAYA      Junior       Muda         Kurang  Sangat Baik   \n",
      "32      SARINA  Supervisor       Muda         Kurang  Sangat Baik   \n",
      "\n",
      "   HasilEvaluasi  \n",
      "0        PROMOSI  \n",
      "1        PROMOSI  \n",
      "2         MUTASI  \n",
      "3        PROMOSI  \n",
      "4         MUTASI  \n",
      "5         MUTASI  \n",
      "6        PROMOSI  \n",
      "7        PROMOSI  \n",
      "8            PHK  \n",
      "9        PROMOSI  \n",
      "10        MUTASI  \n",
      "11       PROMOSI  \n",
      "12        MUTASI  \n",
      "13           PHK  \n",
      "14       PROMOSI  \n",
      "15           PHK  \n",
      "16        MUTASI  \n",
      "17       PROMOSI  \n",
      "18        MUTASI  \n",
      "19           PHK  \n",
      "20        MUTASI  \n",
      "21       PROMOSI  \n",
      "22           PHK  \n",
      "23        MUTASI  \n",
      "24       PROMOSI  \n",
      "25       PROMOSI  \n",
      "26        MUTASI  \n",
      "27           PHK  \n",
      "28       PROMOSI  \n",
      "29        MUTASI  \n",
      "30       PROMOSI  \n",
      "31        MUTASI  \n",
      "32       PROMOSI  \n"
     ]
    }
   ],
   "source": [
    "MasaKerja = getClassifyMasaKerja()\n",
    "Usia = getClassifyUsia()\n",
    "NilaiPelatihan = getClassifyNilaiPelatihan()\n",
    "NilaiKinerja = getClassifyNilaiKinerja()\n",
    "dataAfterClassify = pandas.DataFrame({  'NamaPegawai': data['namapegawai'],\n",
    "                                        'MasaKerja': getClassifyMasaKerja(),\n",
    "                                        'Usia': getClassifyUsia(),\n",
    "                                        'NilaiPelatihan': getClassifyNilaiPelatihan(),\n",
    "                                        'NilaiKerja': getClassifyNilaiKinerja(),\n",
    "                                        'HasilEvaluasi': data['hasilevaluasi']\n",
    "                                    })\n",
    "print(dataAfterClassify)"
   ]
  },
  {
   "cell_type": "code",
   "execution_count": 60,
   "id": "bfcfe226",
   "metadata": {},
   "outputs": [
    {
     "name": "stdout",
     "output_type": "stream",
     "text": [
      "12\n"
     ]
    }
   ],
   "source": [
    "def CiriperKelas(ciri, kelas, valueciri, valuekelas):\n",
    "    i = 0\n",
    "    result = 0\n",
    "    for x in ciri:\n",
    "        if ciri[i] == valueciri and kelas[i] == valuekelas:\n",
    "            result = result + 1\n",
    "        i = i + 1\n",
    "    return result"
   ]
  },
  {
   "cell_type": "code",
   "execution_count": 61,
   "id": "68132888",
   "metadata": {},
   "outputs": [
    {
     "name": "stdout",
     "output_type": "stream",
     "text": [
      "12\n"
     ]
    }
   ],
   "source": [
    "# Mencari Ciri Junior Per Kelas\n",
    "Junior_Promosi = CiriperKelas(dataAfterClassify['MasaKerja'], dataAfterClassify['HasilEvaluasi'], \"Junior\", \"PROMOSI\")\n",
    "Junior_Mutasi = CiriperKelas(dataAfterClassify['MasaKerja'], dataAfterClassify['HasilEvaluasi'], \"Junior\", \"MUTASI\")\n",
    "Junior_PHK = CiriperKelas(dataAfterClassify['MasaKerja'], dataAfterClassify['HasilEvaluasi'], \"Junior\", \"PHK\")\n",
    "TotalCiri_Junior = Junior_Promosi + Junior_Mutasi + Junior_PHK\n",
    "print(TotalCiri_Junior)"
   ]
  },
  {
   "cell_type": "code",
   "execution_count": 64,
   "id": "6551c665",
   "metadata": {},
   "outputs": [
    {
     "name": "stdout",
     "output_type": "stream",
     "text": [
      "11  ===  5  ===  2  ===  18\n"
     ]
    }
   ],
   "source": [
    "# Mencari Ciri Supervisor Per Kelas\n",
    "Supervisor_Promosi = CiriperKelas(dataAfterClassify['MasaKerja'], dataAfterClassify['HasilEvaluasi'], \"Supervisor\", \"PROMOSI\")\n",
    "Supervisor_Mutasi = CiriperKelas(dataAfterClassify['MasaKerja'], dataAfterClassify['HasilEvaluasi'], \"Supervisor\", \"MUTASI\")\n",
    "Supervisor_PHK = CiriperKelas(dataAfterClassify['MasaKerja'], dataAfterClassify['HasilEvaluasi'], \"Supervisor\", \"PHK\")\n",
    "TotalCiri_Supervisor = Supervisor_Promosi + Supervisor_Mutasi + Supervisor_PHK\n",
    "\n",
    "print(Supervisor_Promosi,\" === \",Supervisor_Mutasi,\" === \",Supervisor_PHK,\" === \", TotalCiri_Supervisor)\n"
   ]
  },
  {
   "cell_type": "code",
   "execution_count": 65,
   "id": "555ecc4e",
   "metadata": {},
   "outputs": [
    {
     "name": "stdout",
     "output_type": "stream",
     "text": [
      "1  ===  2  ===  0  ===  3\n"
     ]
    }
   ],
   "source": [
    "# Mencari Ciri Manager Per Kelas\n",
    "Manager_Promosi = CiriperKelas(dataAfterClassify['MasaKerja'], dataAfterClassify['HasilEvaluasi'], \"Manager\", \"PROMOSI\")\n",
    "Manager_Mutasi = CiriperKelas(dataAfterClassify['MasaKerja'], dataAfterClassify['HasilEvaluasi'], \"Manager\", \"MUTASI\")\n",
    "Manager_PHK = CiriperKelas(dataAfterClassify['MasaKerja'], dataAfterClassify['HasilEvaluasi'], \"Manager\", \"PHK\")\n",
    "TotalCiri_Manager = Manager_Promosi + Manager_Mutasi + Manager_PHK\n",
    "\n",
    "print(Manager_Promosi,\" === \",Manager_Mutasi,\" === \",Manager_PHK,\" === \", TotalCiri_Manager)\n"
   ]
  },
  {
   "cell_type": "code",
   "execution_count": 66,
   "id": "be4d7ca0",
   "metadata": {},
   "outputs": [
    {
     "name": "stdout",
     "output_type": "stream",
     "text": [
      "15 === 12 === 6 === 33\n"
     ]
    }
   ],
   "source": [
    "# Mencari total Kelas\n",
    "Total_Promosi =  Junior_Promosi + Supervisor_Promosi + Manager_Promosi\n",
    "Total_Mutasi = Junior_Mutasi + Supervisor_Mutasi + Manager_Mutasi\n",
    "Total_PHK = Junior_PHK + Supervisor_PHK + Manager_PHK\n",
    "TotalData = Total_Promosi+Total_Mutasi+Total_PHK\n",
    "print(Total_Promosi,'===',Total_Mutasi,'===',Total_PHK,'===',TotalData)"
   ]
  },
  {
   "cell_type": "code",
   "execution_count": 74,
   "id": "859c233b",
   "metadata": {},
   "outputs": [],
   "source": [
    "# Probability Function\n",
    "def Prob(value):\n",
    "    Prob = \"{:.2f}\".format(value/ TotalData)\n",
    "    return Prob"
   ]
  },
  {
   "cell_type": "code",
   "execution_count": null,
   "id": "a04b51d5",
   "metadata": {},
   "outputs": [],
   "source": [
    "# Mencari PH\n",
    "PH_Promosi = Prob(Total_Promosi)\n",
    "PH_Mutasi = Prob(Total_Mutasi)\n",
    "PH_phk = Prob(Total_PHK)\n",
    "\n",
    "\n",
    "print(PH_Promosi, \" \",PH_Mutasi, \" \",PH_phk, \" \",)"
   ]
  },
  {
   "cell_type": "code",
   "execution_count": 75,
   "id": "a3b2918a",
   "metadata": {},
   "outputs": [
    {
     "name": "stdout",
     "output_type": "stream",
     "text": [
      "0.36   0.55   0.09\n"
     ]
    }
   ],
   "source": [
    "# Mencari PX\n",
    "PX_Junior = Prob(TotalCiri_Junior)\n",
    "PX_Supervisor = Prob(TotalCiri_Supervisor)\n",
    "PX_Manager = Prob(TotalCiri_Manager)\n",
    "print(PX_Junior ,\" \", PX_Supervisor ,\" \", PX_Manager)"
   ]
  },
  {
   "cell_type": "code",
   "execution_count": 76,
   "id": "466b6b61",
   "metadata": {},
   "outputs": [],
   "source": [
    "# Function Mencari P(X|H)\n",
    "def PXH(cirikelas, totalkelas):\n",
    "    pxh = \"{:.2f}\".format(cirikelas / totalkelas)\n",
    "    return pxh"
   ]
  },
  {
   "cell_type": "code",
   "execution_count": 78,
   "id": "df56b6f7",
   "metadata": {},
   "outputs": [
    {
     "name": "stdout",
     "output_type": "stream",
     "text": [
      "['0.20', '0.42', '0.67', '0.73', '0.42', '0.33', '0.07', '0.17', '0.00']\n"
     ]
    }
   ],
   "source": [
    "PXH_Junior_Promosi = PXH(Junior_Promosi, Total_Promosi)\n",
    "PXH_Junior_Mutasi = PXH(Junior_Mutasi, Total_Mutasi)\n",
    "PXH_Junior_PHK = PXH(Junior_PHK, Total_PHK)\n",
    "PXH_Supervisor_Promosi = PXH(Supervisor_Promosi, Total_Promosi)\n",
    "PXH_Supervisor_Mutasi = PXH (Supervisor_Mutasi, Total_Mutasi)\n",
    "PXH_Supervisor_PHK = PXH(Supervisor_PHK, Total_PHK)\n",
    "PXH_Manager_Promosi = PXH(Manager_Promosi, Total_Promosi)\n",
    "PXH_Manager_Mutasi = PXH (Manager_Mutasi, Total_Mutasi)\n",
    "PXH_Manager_PHK = PXH(Manager_PHK, Total_PHK)\n",
    "\n",
    "test = [PXH_Junior_Promosi, PXH_Junior_Mutasi, PXH_Junior_PHK, PXH_Supervisor_Promosi, PXH_Supervisor_Mutasi, PXH_Supervisor_PHK, PXH_Manager_Promosi, PXH_Manager_Mutasi, PXH_Manager_PHK]\n",
    "print(test)"
   ]
  }
 ],
 "metadata": {
  "kernelspec": {
   "display_name": "Python 3 (ipykernel)",
   "language": "python",
   "name": "python3"
  },
  "language_info": {
   "codemirror_mode": {
    "name": "ipython",
    "version": 3
   },
   "file_extension": ".py",
   "mimetype": "text/x-python",
   "name": "python",
   "nbconvert_exporter": "python",
   "pygments_lexer": "ipython3",
   "version": "3.9.10"
  }
 },
 "nbformat": 4,
 "nbformat_minor": 5
}
