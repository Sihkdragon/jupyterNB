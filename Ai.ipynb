{
 "cells": [
  {
   "cell_type": "code",
   "execution_count": 27,
   "id": "d0a44c2b-ff42-4d72-a6d7-41d4750eb7a4",
   "metadata": {},
   "outputs": [
    {
     "name": "stdout",
     "output_type": "stream",
     "text": [
      "   namapegawai  masakerja  usia  nilaipelatihan  nilaikerja hasilevaluasi\n",
      "0    ALI TOPAN         10    35              71          93       PROMOSI\n",
      "1      SARTIKA         15    32              82          62       PROMOSI\n",
      "2         MIKA          5    25              91          88        MUTASI\n",
      "3         RUBY          8    30              72          96       PROMOSI\n",
      "4   BIAN UTAMI         20    45              59          98        MUTASI\n",
      "5     RIANDARI         17    42              97          62        MUTASI\n",
      "6    ULI ALWAN         23    52              97          73       PROMOSI\n",
      "7       KANITA         18    48              50          84       PROMOSI\n",
      "8       SARINI          2    32              60          72           PHK\n",
      "9       RAFINA          7    37              81          99       PROMOSI\n",
      "10     BUDIMAN         15    48              69          92        MUTASI\n",
      "11     SARTIKA         15    32              87          85       PROMOSI\n",
      "12        MIKA          5    25              70          90        MUTASI\n",
      "13        RUBY          8    30              77          77           PHK\n",
      "14      KANITA         18    47              84          87       PROMOSI\n",
      "15      SARITA          2    32              87          51           PHK\n",
      "16      BUDIAN         15    40              76          76        MUTASI\n",
      "17     SARTIKA         11    32              91          94       PROMOSI\n",
      "18        MIKO          6    25              59          66        MUTASI\n",
      "19    RIANDANI         17    48              88          53           PHK\n",
      "20     ULILWAN         24    52              67          96        MUTASI\n",
      "21      KANISA         18    48              61          60       PROMOSI\n",
      "22      SARINA          3    32              51          52           PHK\n",
      "23     BUDIANA         15    48              66          93        MUTASI\n",
      "24     SANTIKA         16    32              93          81       PROMOSI\n",
      "25      SAFIRA         11    32              82          69       PROMOSI\n",
      "26        MIRA         26    50              95          94        MUTASI\n",
      "27      RIANTI         17    48              85          83           PHK\n",
      "28        CICI         11    32              73          95       PROMOSI\n",
      "29         INA          6    25              76          75        MUTASI\n",
      "30        MIMA         11    32              58          82       PROMOSI\n",
      "31        NAYA          6    25              54          97        MUTASI\n",
      "32      SARINA         11    32              60          87       PROMOSI\n"
     ]
    }
   ],
   "source": [
    "import pandas\n",
    "import matplotlib.pyplot as plt\n",
    "import seaborn as sns\n",
    "csvpath = \"d:/Code/PYTHON/AI/naive-baiyes/Program/data.csv\"\n",
    "data = pandas.read_csv(csvpath)\n",
    "print(data.D)"
   ]
  },
  {
   "cell_type": "code",
   "execution_count": 21,
   "id": "b6be7050-144a-4e9c-9122-9ff1c431d41e",
   "metadata": {},
   "outputs": [
    {
     "name": "stdout",
     "output_type": "stream",
     "text": [
      "junior =  12 supervisor =  18 manager =  0\n"
     ]
    }
   ],
   "source": [
    "def getClassifyMasaKerja(data_masakerja):\n",
    "    junior = 0\n",
    "    supervisor = 0\n",
    "    manager = 0\n",
    "    for masa in data_masakerja:\n",
    "        if masa <= 10:\n",
    "            junior = junior + 1\n",
    "        if masa > 10 and masa <= 20:\n",
    "            supervisor = supervisor + 1\n",
    "        if masa > 30:\n",
    "            manager = manager + 1\n",
    "    print(\"junior = \",junior, \"supervisor = \",supervisor, \"manager = \",manager)\n",
    "getClassifyMasaKerja(data['masakerja'])"
   ]
  },
  {
   "cell_type": "code",
   "execution_count": 26,
   "id": "9967ac63",
   "metadata": {},
   "outputs": [
    {
     "name": "stdout",
     "output_type": "stream",
     "text": [
      "tua =  10 parubaya =  4 muda =  19\n"
     ]
    }
   ],
   "source": [
    "def getClassifyUsia(data_usia):\n",
    "    tua = 0\n",
    "    parubaya = 0\n",
    "    muda = 0\n",
    "    for usia in data_usia:\n",
    "        if usia >=46 and usia <= 55:\n",
    "            tua += 1\n",
    "        if usia >= 36 and usia <= 45:\n",
    "            parubaya += 1\n",
    "        if  usia >= 25 and usia <= 35:\n",
    "            muda += 1\n",
    "    print(\"tua = \", tua,\"parubaya = \", parubaya, \"muda = \",muda)\n",
    "getClassifyUsia(data['usia'])"
   ]
  },
  {
   "cell_type": "code",
   "execution_count": 23,
   "id": "7467faf9",
   "metadata": {},
   "outputs": [
    {
     "name": "stdout",
     "output_type": "stream",
     "text": [
      "sangat_baik =  14 baik =  10 kurang =  9\n"
     ]
    }
   ],
   "source": [
    "def getClassifyNilaiPelatihan(data_nilaipel):\n",
    "    sangat_baik = 0\n",
    "    baik = 0\n",
    "    kurang = 0\n",
    "    for nilaipel in data_nilaipel:\n",
    "        if nilaipel >=81 and nilaipel <= 100:\n",
    "            sangat_baik += 1\n",
    "        if nilaipel >= 66 and nilaipel <= 80:\n",
    "            baik += 1\n",
    "        if  nilaipel >= 45 and nilaipel <= 65:\n",
    "            kurang += 1\n",
    "    print(\"sangat_baik = \", sangat_baik,\"baik = \", baik, \"kurang = \",kurang)\n",
    "getClassifyNilaiPelatihan(data['nilaipelatihan'])"
   ]
  },
  {
   "cell_type": "code",
   "execution_count": 24,
   "id": "c4b8cb7a",
   "metadata": {},
   "outputs": [
    {
     "name": "stdout",
     "output_type": "stream",
     "text": [
      "sangat_baik =  20 baik =  7 kurang =  6\n"
     ]
    }
   ],
   "source": [
    "def getClassifyNilaiKinerja(data_nilaiker):\n",
    "    sangat_baik = 0\n",
    "    baik = 0\n",
    "    kurang = 0\n",
    "    for nilaiker in data_nilaiker:\n",
    "        if nilaiker >=81 and nilaiker <= 100:\n",
    "            sangat_baik += 1\n",
    "        if nilaiker >= 66 and nilaiker <= 80:\n",
    "            baik += 1\n",
    "        if  nilaiker >= 45 and nilaiker <= 65:\n",
    "            kurang += 1\n",
    "    print(\"sangat_baik = \", sangat_baik,\"baik = \", baik, \"kurang = \",kurang)\n",
    "getClassifyNilaiKinerja(data['nilaikerja'])"
   ]
  },
  {
   "cell_type": "code",
   "execution_count": 35,
   "id": "0d7ef587",
   "metadata": {},
   "outputs": [
    {
     "name": "stdout",
     "output_type": "stream",
     "text": [
      "namapegawai       object\n",
      "masakerja          int64\n",
      "usia               int64\n",
      "nilaipelatihan     int64\n",
      "nilaikerja         int64\n",
      "hasilevaluasi     object\n",
      "dtype: object\n"
     ]
    }
   ],
   "source": [
    "print(data.dtypes)"
   ]
  }
 ],
 "metadata": {
  "kernelspec": {
   "display_name": "Python 3 (ipykernel)",
   "language": "python",
   "name": "python3"
  },
  "language_info": {
   "codemirror_mode": {
    "name": "ipython",
    "version": 3
   },
   "file_extension": ".py",
   "mimetype": "text/x-python",
   "name": "python",
   "nbconvert_exporter": "python",
   "pygments_lexer": "ipython3",
   "version": "3.10.2"
  }
 },
 "nbformat": 4,
 "nbformat_minor": 5
}
