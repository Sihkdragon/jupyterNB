{
 "cells": [
  {
   "cell_type": "code",
   "execution_count": 543,
   "id": "d0a44c2b-ff42-4d72-a6d7-41d4750eb7a4",
   "metadata": {},
   "outputs": [],
   "source": [
    "# Import Library\n",
    "import pandas\n",
    "import matplotlib.pyplot as plt\n",
    "import seaborn as sns\n",
    "# Import Data\n",
    "csvpath = \"data.csv\"\n",
    "data = pandas.read_csv(csvpath)"
   ]
  },
  {
   "cell_type": "code",
   "execution_count": 544,
   "id": "b6be7050-144a-4e9c-9122-9ff1c431d41e",
   "metadata": {},
   "outputs": [],
   "source": [
    "# Klasifikasi Masa Kerja Function\n",
    "def getClassifyMasaKerja(data_masakerja):\n",
    "    dataClassifyMasaKerja = []\n",
    "    junior = 0\n",
    "    supervisor = 0\n",
    "    manager = 0\n",
    "    i = 0\n",
    "    for masa in data_masakerja:\n",
    "        if masa <= 10:\n",
    "            junior += 1\n",
    "            dataClassifyMasaKerja.append(\"Junior\")\n",
    "            i+=1\n",
    "        if masa > 10 and masa <= 20:\n",
    "            supervisor += 1\n",
    "            dataClassifyMasaKerja.append(\"Supervisor\")\n",
    "            i+=1\n",
    "        if masa >= 21 and masa <= 30:\n",
    "            manager += 1\n",
    "            dataClassifyMasaKerja.append(\"Manager\")\n",
    "            i+=1\n",
    "    return dataClassifyMasaKerja"
   ]
  },
  {
   "cell_type": "code",
   "execution_count": 545,
   "id": "9e80beae",
   "metadata": {},
   "outputs": [],
   "source": [
    "# Klasifikasi Usia Function\n",
    "def getClassifyUsia(data_usia):\n",
    "    dataClassifyUsia =  []\n",
    "    Tua = 0\n",
    "    Parubaya = 0\n",
    "    Muda = 0\n",
    "    i = 0\n",
    "    for usia in data_usia:\n",
    "        if usia >= 46 and usia <= 55:\n",
    "            Tua += 1\n",
    "            dataClassifyUsia.append(\"Tua\")\n",
    "            i+=1\n",
    "        if usia >= 36 and usia <= 45:\n",
    "            Parubaya += 1\n",
    "            dataClassifyUsia.append(\"Paruhbaya\")\n",
    "            i+=1\n",
    "        if usia >= 25 and usia <= 35:\n",
    "            Muda += 1\n",
    "            dataClassifyUsia.append(\"Muda\")\n",
    "            i+=1\n",
    "    return dataClassifyUsia\n",
    "# getClassifyUsia()"
   ]
  },
  {
   "cell_type": "code",
   "execution_count": 546,
   "id": "7964a532",
   "metadata": {},
   "outputs": [],
   "source": [
    "# Klasifikasi Nilai Pelatihan Function\n",
    "def getClassifyNilaiPelatihan(data_nilaipel):\n",
    "    dataClassifyNilaiPelatihan = []\n",
    "    sangat_baik = 0\n",
    "    baik = 0\n",
    "    kurang = 0\n",
    "    for nilaipel in data_nilaipel:\n",
    "        if nilaipel >=81 and nilaipel <= 100:\n",
    "            sangat_baik += 1\n",
    "            dataClassifyNilaiPelatihan.append(\"Sangat Baik\")\n",
    "        if nilaipel >= 66 and nilaipel <= 80:\n",
    "            baik += 1\n",
    "            dataClassifyNilaiPelatihan.append(\"Baik\")\n",
    "        if  nilaipel >= 45 and nilaipel <= 65:\n",
    "            kurang += 1\n",
    "            dataClassifyNilaiPelatihan.append(\"Kurang\")\n",
    "    return dataClassifyNilaiPelatihan\n",
    "# getClassifyNilaiPelatihan()"
   ]
  },
  {
   "cell_type": "code",
   "execution_count": 547,
   "id": "c4b8cb7a",
   "metadata": {},
   "outputs": [],
   "source": [
    "# Klasifikasi Nilai Kinerja Function\n",
    "def getClassifyNilaiKinerja(data_nilaiker):\n",
    "    dataClassifyNilaiKinerja = []\n",
    "    sangat_baik = 0\n",
    "    baik = 0\n",
    "    kurang = 0\n",
    "    for nilaiker in data_nilaiker:\n",
    "        if nilaiker >=81 and nilaiker <= 100:\n",
    "            sangat_baik += 1\n",
    "            dataClassifyNilaiKinerja.append(\"Sangat Baik\")\n",
    "        if nilaiker >= 66 and nilaiker <= 80:\n",
    "            baik += 1\n",
    "            dataClassifyNilaiKinerja.append(\"Baik\")\n",
    "        if  nilaiker >= 45 and nilaiker <= 65:\n",
    "            kurang += 1\n",
    "            dataClassifyNilaiKinerja.append(\"Kurang\")\n",
    "    return dataClassifyNilaiKinerja\n",
    "# getClassifyNilaiKinerja()"
   ]
  },
  {
   "cell_type": "code",
   "execution_count": 548,
   "id": "0d7ef587",
   "metadata": {},
   "outputs": [
    {
     "name": "stdout",
     "output_type": "stream",
     "text": [
      "   NamaPegawai   MasaKerja       Usia NilaiPelatihan NilaiKinerja  \\\n",
      "0    ALI TOPAN      Junior       Muda           Baik  Sangat Baik   \n",
      "1      SARTIKA  Supervisor       Muda    Sangat Baik       Kurang   \n",
      "2         MIKA      Junior       Muda    Sangat Baik  Sangat Baik   \n",
      "3         RUBY      Junior       Muda           Baik  Sangat Baik   \n",
      "4   BIAN UTAMI  Supervisor  Paruhbaya         Kurang  Sangat Baik   \n",
      "5     RIANDARI  Supervisor  Paruhbaya    Sangat Baik       Kurang   \n",
      "6    ULI ALWAN     Manager        Tua    Sangat Baik         Baik   \n",
      "7       KANITA  Supervisor        Tua         Kurang  Sangat Baik   \n",
      "8       SARINI      Junior       Muda         Kurang         Baik   \n",
      "9       RAFINA      Junior  Paruhbaya    Sangat Baik  Sangat Baik   \n",
      "10     BUDIMAN  Supervisor        Tua           Baik  Sangat Baik   \n",
      "11     SARTIKA  Supervisor       Muda    Sangat Baik  Sangat Baik   \n",
      "12        MIKA      Junior       Muda           Baik  Sangat Baik   \n",
      "13        RUBY      Junior       Muda           Baik         Baik   \n",
      "14      KANITA  Supervisor        Tua    Sangat Baik  Sangat Baik   \n",
      "15      SARITA      Junior       Muda    Sangat Baik       Kurang   \n",
      "16      BUDIAN  Supervisor  Paruhbaya           Baik         Baik   \n",
      "17     SARTIKA  Supervisor       Muda    Sangat Baik  Sangat Baik   \n",
      "18        MIKO      Junior       Muda         Kurang         Baik   \n",
      "19    RIANDANI  Supervisor        Tua    Sangat Baik       Kurang   \n",
      "20     ULILWAN     Manager        Tua           Baik  Sangat Baik   \n",
      "21      KANISA  Supervisor        Tua         Kurang       Kurang   \n",
      "22      SARINA      Junior       Muda         Kurang       Kurang   \n",
      "23     BUDIANA  Supervisor        Tua           Baik  Sangat Baik   \n",
      "24     SANTIKA  Supervisor       Muda    Sangat Baik  Sangat Baik   \n",
      "25      SAFIRA  Supervisor       Muda    Sangat Baik         Baik   \n",
      "26        MIRA     Manager        Tua    Sangat Baik  Sangat Baik   \n",
      "27      RIANTI  Supervisor        Tua    Sangat Baik  Sangat Baik   \n",
      "28        CICI  Supervisor       Muda           Baik  Sangat Baik   \n",
      "29         INA      Junior       Muda           Baik         Baik   \n",
      "30        MIMA  Supervisor       Muda         Kurang  Sangat Baik   \n",
      "31        NAYA      Junior       Muda         Kurang  Sangat Baik   \n",
      "32      SARINA  Supervisor       Muda         Kurang  Sangat Baik   \n",
      "\n",
      "   HasilEvaluasi  \n",
      "0        PROMOSI  \n",
      "1        PROMOSI  \n",
      "2         MUTASI  \n",
      "3        PROMOSI  \n",
      "4         MUTASI  \n",
      "5         MUTASI  \n",
      "6        PROMOSI  \n",
      "7        PROMOSI  \n",
      "8            PHK  \n",
      "9        PROMOSI  \n",
      "10        MUTASI  \n",
      "11       PROMOSI  \n",
      "12        MUTASI  \n",
      "13           PHK  \n",
      "14       PROMOSI  \n",
      "15           PHK  \n",
      "16        MUTASI  \n",
      "17       PROMOSI  \n",
      "18        MUTASI  \n",
      "19           PHK  \n",
      "20        MUTASI  \n",
      "21       PROMOSI  \n",
      "22           PHK  \n",
      "23        MUTASI  \n",
      "24       PROMOSI  \n",
      "25       PROMOSI  \n",
      "26        MUTASI  \n",
      "27           PHK  \n",
      "28       PROMOSI  \n",
      "29        MUTASI  \n",
      "30       PROMOSI  \n",
      "31        MUTASI  \n",
      "32       PROMOSI  \n"
     ]
    }
   ],
   "source": [
    "# Inisiasi Tabel Hasil Klasifikasi\n",
    "MasaKerja = getClassifyMasaKerja(data['masakerja'])\n",
    "Usia = getClassifyUsia(data['usia'])\n",
    "NilaiPelatihan = getClassifyNilaiPelatihan(data['nilaipelatihan'])\n",
    "NilaiKinerja = getClassifyNilaiKinerja(data['nilaikerja'])\n",
    "dataAfterClassify = pandas.DataFrame({  'NamaPegawai': data['namapegawai'],\n",
    "                                        'MasaKerja': MasaKerja,\n",
    "                                        'Usia': Usia,\n",
    "                                        'NilaiPelatihan': NilaiPelatihan,\n",
    "                                        'NilaiKinerja': NilaiKinerja,\n",
    "                                        'HasilEvaluasi': data['hasilevaluasi']\n",
    "                                    })\n",
    "print(dataAfterClassify)"
   ]
  },
  {
   "cell_type": "code",
   "execution_count": 549,
   "id": "e5764eb6",
   "metadata": {},
   "outputs": [],
   "source": [
    "# Mencari total Setiap Kelas\n",
    "Total_Promosi = 0\n",
    "Total_Mutasi = 0\n",
    "Total_PHK = 0\n",
    "for lists in dataAfterClassify['HasilEvaluasi'] :\n",
    "    if lists == \"PROMOSI\":\n",
    "        Total_Promosi +=1\n",
    "    if lists == \"MUTASI\":\n",
    "        Total_Mutasi +=1\n",
    "    if lists == \"PHK\":\n",
    "        Total_PHK +=1\n",
    "# print(Total_Mutasi)\n"
   ]
  },
  {
   "cell_type": "code",
   "execution_count": 550,
   "id": "2e0fca22",
   "metadata": {},
   "outputs": [],
   "source": [
    "# Mencari Total Data\n",
    "Total_Data = Total_Promosi + Total_Mutasi + Total_PHK\n",
    "# print(Total_Data)"
   ]
  },
  {
   "cell_type": "code",
   "execution_count": 551,
   "id": "bfcfe226",
   "metadata": {},
   "outputs": [],
   "source": [
    "# Ciri Tiap Kelas FUNCTION\n",
    "def CiriperKelas(ciri, kelas, valueciri, valuekelas):\n",
    "    i = 0\n",
    "    result = 0\n",
    "    for x in ciri:\n",
    "        if ciri[i] == valueciri and kelas[i] == valuekelas:\n",
    "            result = result + 1\n",
    "        i = i + 1\n",
    "    return result"
   ]
  },
  {
   "cell_type": "code",
   "execution_count": 552,
   "id": "aca608f3",
   "metadata": {},
   "outputs": [],
   "source": [
    "# Probability Function (PH - PX)\n",
    "def Prob(value):\n",
    "    Prob = float(\"{:.2f}\".format(value / Total_Data))\n",
    "    return Prob"
   ]
  },
  {
   "cell_type": "code",
   "execution_count": 553,
   "id": "506e19c6",
   "metadata": {},
   "outputs": [],
   "source": [
    "# Cari P(X|H) Function\n",
    "def PXH(cirikelas, totalkelas):\n",
    "    pxh = float(\"{:.2f}\".format(cirikelas / totalkelas))\n",
    "    return pxh"
   ]
  },
  {
   "cell_type": "code",
   "execution_count": 554,
   "id": "fee89546",
   "metadata": {},
   "outputs": [],
   "source": [
    "# Mencari PH Setiap Kelas\n",
    "PH_Promosi = Prob(Total_Promosi)\n",
    "PH_Mutasi = Prob(Total_Mutasi)\n",
    "PH_phk = Prob(Total_PHK)"
   ]
  },
  {
   "cell_type": "code",
   "execution_count": 555,
   "id": "68132888",
   "metadata": {},
   "outputs": [],
   "source": [
    "# Mencari Ciri Junior Per Kelas\n",
    "Junior_Promosi = CiriperKelas(dataAfterClassify['MasaKerja'], dataAfterClassify['HasilEvaluasi'], \"Junior\", \"PROMOSI\")\n",
    "Junior_Mutasi = CiriperKelas(dataAfterClassify['MasaKerja'], dataAfterClassify['HasilEvaluasi'], \"Junior\", \"MUTASI\")\n",
    "Junior_PHK = CiriperKelas(dataAfterClassify['MasaKerja'], dataAfterClassify['HasilEvaluasi'], \"Junior\", \"PHK\")\n",
    "TotalCiri_Junior = Junior_Promosi + Junior_Mutasi + Junior_PHK\n",
    "# print(TotalCiri_Junior)"
   ]
  },
  {
   "cell_type": "code",
   "execution_count": 556,
   "id": "6551c665",
   "metadata": {},
   "outputs": [],
   "source": [
    "# Mencari Ciri Supervisor Per Kelas\n",
    "Supervisor_Promosi = CiriperKelas(dataAfterClassify['MasaKerja'], dataAfterClassify['HasilEvaluasi'], \"Supervisor\", \"PROMOSI\")\n",
    "Supervisor_Mutasi = CiriperKelas(dataAfterClassify['MasaKerja'], dataAfterClassify['HasilEvaluasi'], \"Supervisor\", \"MUTASI\")\n",
    "Supervisor_PHK = CiriperKelas(dataAfterClassify['MasaKerja'], dataAfterClassify['HasilEvaluasi'], \"Supervisor\", \"PHK\")\n",
    "TotalCiri_Supervisor = Supervisor_Promosi + Supervisor_Mutasi + Supervisor_PHK\n",
    "\n",
    "# print(Supervisor_Promosi,\" === \",Supervisor_Mutasi,\" === \",Supervisor_PHK,\" === \", TotalCiri_Supervisor)\n"
   ]
  },
  {
   "cell_type": "code",
   "execution_count": 557,
   "id": "555ecc4e",
   "metadata": {},
   "outputs": [],
   "source": [
    "# Mencari Ciri Manager Per Kelas\n",
    "Manager_Promosi = CiriperKelas(dataAfterClassify['MasaKerja'], dataAfterClassify['HasilEvaluasi'], \"Manager\", \"PROMOSI\")\n",
    "Manager_Mutasi = CiriperKelas(dataAfterClassify['MasaKerja'], dataAfterClassify['HasilEvaluasi'], \"Manager\", \"MUTASI\")\n",
    "Manager_PHK = CiriperKelas(dataAfterClassify['MasaKerja'], dataAfterClassify['HasilEvaluasi'], \"Manager\", \"PHK\")\n",
    "TotalCiri_Manager = Manager_Promosi + Manager_Mutasi + Manager_PHK\n",
    "\n",
    "# print(Manager_Promosi,\" === \",Manager_Mutasi,\" === \",Manager_PHK,\" === \", TotalCiri_Manager)\n"
   ]
  },
  {
   "cell_type": "code",
   "execution_count": 558,
   "id": "a3b2918a",
   "metadata": {},
   "outputs": [
    {
     "name": "stdout",
     "output_type": "stream",
     "text": [
      "0.36   0.55   0.09\n"
     ]
    }
   ],
   "source": [
    "# Mencari PX Masa Kerja\n",
    "PX_Junior = Prob(TotalCiri_Junior)\n",
    "PX_Supervisor = Prob(TotalCiri_Supervisor)\n",
    "PX_Manager = Prob(TotalCiri_Manager)\n",
    "print(PX_Junior ,\" \", PX_Supervisor ,\" \", PX_Manager)"
   ]
  },
  {
   "cell_type": "code",
   "execution_count": 559,
   "id": "df56b6f7",
   "metadata": {},
   "outputs": [],
   "source": [
    "# PXH Masa Kerja\n",
    "PXH_Junior_Promosi = PXH(Junior_Promosi, Total_Promosi)\n",
    "PXH_Junior_Mutasi = PXH(Junior_Mutasi, Total_Mutasi)\n",
    "PXH_Junior_PHK = PXH(Junior_PHK, Total_PHK)\n",
    "PXH_Supervisor_Promosi = PXH(Supervisor_Promosi, Total_Promosi)\n",
    "PXH_Supervisor_Mutasi = PXH (Supervisor_Mutasi, Total_Mutasi)\n",
    "PXH_Supervisor_PHK = PXH(Supervisor_PHK, Total_PHK)\n",
    "PXH_Manager_Promosi = PXH(Manager_Promosi, Total_Promosi)\n",
    "PXH_Manager_Mutasi = PXH (Manager_Mutasi, Total_Mutasi)\n",
    "PXH_Manager_PHK = PXH(Manager_PHK, Total_PHK)\n",
    "\n",
    "# test = [PXH_Junior_Promosi, PXH_Junior_Mutasi, PXH_Junior_PHK, PXH_Supervisor_Promosi, PXH_Supervisor_Mutasi, PXH_Supervisor_PHK, PXH_Manager_Promosi, PXH_Manager_Mutasi, PXH_Manager_PHK]\n",
    "# print(test)"
   ]
  },
  {
   "cell_type": "code",
   "execution_count": 560,
   "id": "4f03d22e",
   "metadata": {},
   "outputs": [],
   "source": [
    "# -- USIA --\n"
   ]
  },
  {
   "cell_type": "code",
   "execution_count": 561,
   "id": "f9831024",
   "metadata": {},
   "outputs": [],
   "source": [
    "# Mencari Tua Per Kelas\n",
    "Tua_Promosi = CiriperKelas(dataAfterClassify['Usia'],dataAfterClassify['HasilEvaluasi'],\"Tua\", \"PROMOSI\")\n",
    "Tua_Mutasi = CiriperKelas(dataAfterClassify['Usia'],dataAfterClassify['HasilEvaluasi'],\"Tua\", \"MUTASI\")\n",
    "Tua_PHK = CiriperKelas(dataAfterClassify['Usia'],dataAfterClassify['HasilEvaluasi'],\"Tua\", \"PHK\")\n",
    "TotalCiri_Tua = Tua_Promosi + Tua_Mutasi + Tua_PHK"
   ]
  },
  {
   "cell_type": "code",
   "execution_count": 562,
   "id": "21c7c5e2",
   "metadata": {},
   "outputs": [],
   "source": [
    "# Mencari Parubaya Per Kelas\n",
    "Paruhbaya_Promosi =  CiriperKelas(dataAfterClassify['Usia'],dataAfterClassify['HasilEvaluasi'],\"Paruhbaya\", \"PROMOSI\")\n",
    "Paruhbaya_Mutasi  = CiriperKelas(dataAfterClassify['Usia'],dataAfterClassify['HasilEvaluasi'],\"Paruhbaya\", \"MUTASI\")\n",
    "Paruhbaya_PHK = CiriperKelas(dataAfterClassify['Usia'],dataAfterClassify['HasilEvaluasi'],\"Paruhbaya\", \"PHK\")\n",
    "TotalCiri_Paruhbaya = Paruhbaya_Promosi + Paruhbaya_Mutasi + Paruhbaya_PHK"
   ]
  },
  {
   "cell_type": "code",
   "execution_count": 563,
   "id": "0fbcc4ae",
   "metadata": {},
   "outputs": [],
   "source": [
    "# Mencari Muda Per Kelas\n",
    "Muda_Promosi = CiriperKelas(dataAfterClassify['Usia'],dataAfterClassify['HasilEvaluasi'],\"Muda\", \"PROMOSI\")\n",
    "Muda_Mutasi = CiriperKelas(dataAfterClassify['Usia'],dataAfterClassify['HasilEvaluasi'],\"Muda\", \"MUTASI\")\n",
    "Muda_PHK = CiriperKelas(dataAfterClassify['Usia'],dataAfterClassify['HasilEvaluasi'],\"Muda\", \"PHK\")\n",
    "TotalCiri_Muda = Muda_Promosi + Muda_Mutasi + Muda_PHK"
   ]
  },
  {
   "cell_type": "code",
   "execution_count": 564,
   "id": "ead40fd2",
   "metadata": {},
   "outputs": [],
   "source": [
    "# Mencari Total Kelas Usia\n",
    "Total_Promosi_Usia =  Tua_Promosi + Paruhbaya_Promosi + Muda_Promosi\n",
    "Total_Mutasi_Usia = Tua_Mutasi + Paruhbaya_Mutasi + Muda_Mutasi\n",
    "Total_PHK_Usia = Tua_PHK + Paruhbaya_PHK + Muda_PHK\n"
   ]
  },
  {
   "cell_type": "code",
   "execution_count": 565,
   "id": "5d25f15a",
   "metadata": {},
   "outputs": [],
   "source": [
    "# Mencari PX Usia\n",
    "PX_Tua = Prob(TotalCiri_Tua)\n",
    "PX_Paruhbaya = Prob(TotalCiri_Paruhbaya)\n",
    "PX_Muda = Prob(TotalCiri_Muda)"
   ]
  },
  {
   "cell_type": "code",
   "execution_count": 566,
   "id": "4718ba2d",
   "metadata": {},
   "outputs": [],
   "source": [
    "# PXH Usia\n",
    "PXH_Tua_Promosi = PXH(Tua_Promosi, Total_Promosi)\n",
    "PXH_Tua_Mutasi = PXH(Tua_Mutasi, Total_Mutasi)\n",
    "PXH_Tua_PHK = PXH(Tua_PHK, Total_PHK)\n",
    "PXH_Paruhbaya_Promosi = PXH(Paruhbaya_Promosi, Total_Promosi)\n",
    "PXH_Paruhbaya_Mutasi = PXH (Paruhbaya_Mutasi, Total_Mutasi)\n",
    "PXH_Paruhbaya_PHK = PXH(Paruhbaya_PHK, Total_PHK)\n",
    "PXH_Muda_Promosi = PXH(Muda_Promosi, Total_Promosi)\n",
    "PXH_Muda_Mutasi = PXH (Muda_Mutasi, Total_Mutasi)\n",
    "PXH_Muda_PHK = PXH(Muda_PHK, Total_PHK)\n",
    "\n",
    "# test = [PXH_Tua_Promosi, PXH_Tua_Mutasi, PXH_Tua_PHK, PXH_Paruhbaya_Promosi, PXH_Paruhbaya_Mutasi, PXH_Paruhbaya_PHK, PXH_Muda_Promosi, PXH_Muda_Mutasi, PXH_Muda_PHK]\n",
    "# print(test)"
   ]
  },
  {
   "cell_type": "code",
   "execution_count": 567,
   "id": "763906b0",
   "metadata": {},
   "outputs": [],
   "source": [
    "# NilaiPelatihan"
   ]
  },
  {
   "cell_type": "code",
   "execution_count": 568,
   "id": "18cd6bce",
   "metadata": {},
   "outputs": [],
   "source": [
    "# Mencari NilaiPelatihan Kurang Per Kelas\n",
    "Pelatihan_Kurang_Promosi = CiriperKelas(dataAfterClassify['NilaiPelatihan'],dataAfterClassify['HasilEvaluasi'],\"Kurang\", \"PROMOSI\")\n",
    "Pelatihan_Kurang_Mutasi = CiriperKelas(dataAfterClassify['NilaiPelatihan'],dataAfterClassify['HasilEvaluasi'],\"Kurang\", \"MUTASI\")\n",
    "Pelatihan_Kurang_PHK = CiriperKelas(dataAfterClassify['NilaiPelatihan'],dataAfterClassify['HasilEvaluasi'],\"Kurang\", \"PHK\")\n",
    "TotalCiri_Pelatihan_Kurang = Pelatihan_Kurang_Promosi + Pelatihan_Kurang_Mutasi + Pelatihan_Kurang_PHK\n",
    "# print(TotalCiri_Kurang)"
   ]
  },
  {
   "cell_type": "code",
   "execution_count": 569,
   "id": "24b64a57",
   "metadata": {},
   "outputs": [],
   "source": [
    "# Mencari NilaiPelatihan Baik Per Kelas\n",
    "Pelatihan_Baik_Promosi = CiriperKelas(dataAfterClassify['NilaiPelatihan'],dataAfterClassify['HasilEvaluasi'],\"Baik\", \"PROMOSI\")\n",
    "Pelatihan_Baik_Mutasi = CiriperKelas(dataAfterClassify['NilaiPelatihan'],dataAfterClassify['HasilEvaluasi'],\"Baik\", \"MUTASI\")\n",
    "Pelatihan_Baik_PHK = CiriperKelas(dataAfterClassify['NilaiPelatihan'],dataAfterClassify['HasilEvaluasi'],\"Baik\", \"PHK\")\n",
    "TotalCiri_Pelatihan_Baik = Pelatihan_Baik_Promosi + Pelatihan_Baik_Mutasi + Pelatihan_Baik_PHK\n",
    "# print(TotalCiri_Baik)"
   ]
  },
  {
   "cell_type": "code",
   "execution_count": 570,
   "id": "261f8e44",
   "metadata": {},
   "outputs": [],
   "source": [
    "# Mencari NilaiPelatihan Pelatihan_SangatBaik Per Kelas\n",
    "Pelatihan_SangatBaik_Promosi = CiriperKelas(dataAfterClassify['NilaiPelatihan'],dataAfterClassify['HasilEvaluasi'],\"Sangat Baik\", \"PROMOSI\")\n",
    "Pelatihan_SangatBaik_Mutasi = CiriperKelas(dataAfterClassify['NilaiPelatihan'],dataAfterClassify['HasilEvaluasi'],\"Sangat Baik\", \"MUTASI\")\n",
    "Pelatihan_SangatBaik_PHK = CiriperKelas(dataAfterClassify['NilaiPelatihan'],dataAfterClassify['HasilEvaluasi'],\"Sangat Baik\", \"PHK\")\n",
    "TotalCiri_Pelatihan_SangatBaik = Pelatihan_SangatBaik_Promosi + Pelatihan_SangatBaik_Mutasi + Pelatihan_SangatBaik_PHK\n",
    "# print(TotalCiri_Pelatihan_SangatBaik)"
   ]
  },
  {
   "cell_type": "code",
   "execution_count": 571,
   "id": "43010d54",
   "metadata": {},
   "outputs": [],
   "source": [
    "# Mencari PX NilaiPelatihan\n",
    "PX_Kurang = Prob(TotalCiri_Pelatihan_Kurang)\n",
    "PX_Baik = Prob(TotalCiri_Pelatihan_Baik)\n",
    "PX_SangatBaik = Prob(TotalCiri_Pelatihan_SangatBaik)\n"
   ]
  },
  {
   "cell_type": "code",
   "execution_count": 572,
   "id": "49eb99e5",
   "metadata": {},
   "outputs": [],
   "source": [
    "# PXH NilaiPelatihan\n",
    "PXH_Pelatihan_Kurang_Promosi = PXH(Pelatihan_Kurang_Promosi, Total_Promosi)\n",
    "PXH_Pelatihan_Kurang_Mutasi = PXH(Pelatihan_Kurang_Mutasi, Total_Mutasi)\n",
    "PXH_Pelatihan_Kurang_PHK = PXH(Pelatihan_Kurang_PHK, Total_PHK)\n",
    "PXH_Pelatihan_Baik_Promosi = PXH(Pelatihan_Baik_Promosi, Total_Promosi)\n",
    "PXH_Pelatihan_Baik_Mutasi = PXH (Pelatihan_Baik_Mutasi, Total_Mutasi)\n",
    "PXH_Pelatihan_Baik_PHK = PXH(Pelatihan_Baik_PHK, Total_PHK)\n",
    "PXH_Pelatihan_SangatBaik_Promosi = PXH(Pelatihan_SangatBaik_Promosi, Total_Promosi)\n",
    "PXH_Pelatihan_SangatBaik_Mutasi = PXH (Pelatihan_SangatBaik_Mutasi, Total_Mutasi)\n",
    "PXH_Pelatihan_SangatBaik_PHK = PXH(Pelatihan_SangatBaik_PHK, Total_PHK)\n",
    "\n",
    "# test = [PXH_Pelatihan_Kurang_Promosi, PXH_Pelatihan_Kurang_Mutasi, PXH_Pelatihan_Kurang_PHK, PXH_Pelatihan_Baik_Promosi, PXH_Pelatihan_Baik_Mutasi, PXH_Pelatihan_Baik_PHK, PXH_Pelatihan_SangatBaik_Promosi, PXH_Pelatihan_SangatBaik_Mutasi, PXH_Pelatihan_SangatBaik_PHK]\n",
    "# print(test)"
   ]
  },
  {
   "cell_type": "code",
   "execution_count": 573,
   "id": "1131ad98",
   "metadata": {},
   "outputs": [],
   "source": [
    "# NilaiKinerja"
   ]
  },
  {
   "cell_type": "code",
   "execution_count": 574,
   "id": "56e02cfd",
   "metadata": {},
   "outputs": [],
   "source": [
    "# Mencari NilaiKinerja Kurang Per Kelas\n",
    "Kinerja_Kurang_Promosi = CiriperKelas(dataAfterClassify['NilaiKinerja'],dataAfterClassify['HasilEvaluasi'],\"Kurang\", \"PROMOSI\")\n",
    "Kinerja_Kurang_Mutasi = CiriperKelas(dataAfterClassify['NilaiKinerja'],dataAfterClassify['HasilEvaluasi'],\"Kurang\", \"MUTASI\")\n",
    "Kinerja_Kurang_PHK = CiriperKelas(dataAfterClassify['NilaiKinerja'],dataAfterClassify['HasilEvaluasi'],\"Kurang\", \"PHK\")\n",
    "TotalCiri_Kinerja_Kurang = Kinerja_Kurang_Promosi + Kinerja_Kurang_Mutasi + Kinerja_Kurang_PHK\n",
    "# print(TotalCiri_Kurang)\n"
   ]
  },
  {
   "cell_type": "code",
   "execution_count": 575,
   "id": "efff9f5a",
   "metadata": {},
   "outputs": [],
   "source": [
    "# Mencari NilaiKinerja Baik Per Kelas\n",
    "Kinerja_Baik_Promosi = CiriperKelas(dataAfterClassify['NilaiKinerja'],dataAfterClassify['HasilEvaluasi'],\"Baik\", \"PROMOSI\")\n",
    "Kinerja_Baik_Mutasi = CiriperKelas(dataAfterClassify['NilaiKinerja'],dataAfterClassify['HasilEvaluasi'],\"Baik\", \"MUTASI\")\n",
    "Kinerja_Baik_PHK = CiriperKelas(dataAfterClassify['NilaiKinerja'],dataAfterClassify['HasilEvaluasi'],\"Baik\", \"PHK\")\n",
    "TotalCiri_Kinerja_Baik = Kinerja_Baik_Promosi + Kinerja_Baik_Mutasi + Kinerja_Baik_PHK\n",
    "# print(TotalCiri_Kinerja_Baik)"
   ]
  },
  {
   "cell_type": "code",
   "execution_count": 576,
   "id": "3e62f5a3",
   "metadata": {},
   "outputs": [],
   "source": [
    "# Mencari NilaiKinerja SangatBaik Per Kelas\n",
    "Kinerja_SangatBaik_Promosi = CiriperKelas(dataAfterClassify['NilaiKinerja'],dataAfterClassify['HasilEvaluasi'],\"Sangat Baik\", \"PROMOSI\")\n",
    "Kinerja_SangatBaik_Mutasi = CiriperKelas(dataAfterClassify['NilaiKinerja'],dataAfterClassify['HasilEvaluasi'],\"Sangat Baik\", \"MUTASI\")\n",
    "Kinerja_SangatBaik_PHK = CiriperKelas(dataAfterClassify['NilaiKinerja'],dataAfterClassify['HasilEvaluasi'],\"Sangat Baik\", \"PHK\")\n",
    "TotalCiri_Kinerja_SangatBaik = Kinerja_SangatBaik_Promosi + Kinerja_SangatBaik_Mutasi + Kinerja_SangatBaik_PHK\n",
    "# print(TotalCiri_Kinerja_SangatBaik)"
   ]
  },
  {
   "cell_type": "code",
   "execution_count": 577,
   "id": "6f495718",
   "metadata": {},
   "outputs": [],
   "source": [
    "# Mencari PX NilaiKinerja\n",
    "PX_Kinerja_Kurang = Prob(TotalCiri_Kinerja_Kurang)\n",
    "PX_Kinerja_Baik = Prob(TotalCiri_Kinerja_Baik)\n",
    "PX_Kinerja_SangatBaik = Prob(TotalCiri_Kinerja_SangatBaik)\n"
   ]
  },
  {
   "cell_type": "code",
   "execution_count": 578,
   "id": "47c4e246",
   "metadata": {},
   "outputs": [],
   "source": [
    "# PXH NilaiKinerja\n",
    "PXH_Kinerja_Kurang_Promosi = PXH(Kinerja_Kurang_Promosi, Total_Promosi)\n",
    "PXH_Kinerja_Kurang_Mutasi = PXH(Kinerja_Kurang_Mutasi, Total_Mutasi)\n",
    "PXH_Kinerja_Kurang_PHK = PXH(Kinerja_Kurang_PHK, Total_PHK)\n",
    "PXH_Kinerja_Baik_Promosi = PXH(Kinerja_Baik_Promosi, Total_Promosi)\n",
    "PXH_Kinerja_Baik_Mutasi = PXH (Kinerja_Baik_Mutasi, Total_Mutasi)\n",
    "PXH_Kinerja_Baik_PHK = PXH(Kinerja_Baik_PHK, Total_PHK)\n",
    "PXH_Kinerja_SangatBaik_Promosi = PXH(Kinerja_SangatBaik_Promosi, Total_Promosi)\n",
    "PXH_Kinerja_SangatBaik_Mutasi = PXH (Kinerja_SangatBaik_Mutasi, Total_Mutasi)\n",
    "PXH_Kinerja_SangatBaik_PHK = PXH(Kinerja_SangatBaik_PHK, Total_PHK)\n",
    "\n",
    "# test = [PXH_Kinerja_Kurang_Promosi, PXH_Kinerja_Kurang_Mutasi, PXH_Kinerja_Kurang_PHK, PXH_Kinerja_Baik_Promosi, PXH_Kinerja_Baik_Mutasi, PXH_Kinerja_Baik_PHK, PXH_Kinerja_SangatBaik_Promosi, PXH_Kinerja_SangatBaik_Mutasi, PXH_Kinerja_SangatBaik_PHK]\n",
    "# print(test)"
   ]
  },
  {
   "cell_type": "code",
   "execution_count": 579,
   "id": "42dc9704",
   "metadata": {},
   "outputs": [
    {
     "name": "stdout",
     "output_type": "stream",
     "text": [
      "  NamaPegawai  MasaKerja  Usia  NilaiPelatihan  NilaiKinerja  HasilEvaluasi\n",
      "0     BUDIANO         15    48              95            52            NaN\n",
      "1       SANTO         16    32              66            50            NaN\n",
      "2      SAFERO         11    32              77            72            NaN\n",
      "3      MARHAM         26    50              88            96            NaN\n",
      "4      RIANTO         17    48              63            58            NaN\n"
     ]
    }
   ],
   "source": [
    "# Import Data Latih\n",
    "csvpathtraining = \"d:/Code/PYTHON/AI/Program/datalatih.csv\"\n",
    "datalatih = pandas.read_csv(csvpathtraining)\n",
    "print(datalatih)"
   ]
  },
  {
   "cell_type": "markdown",
   "id": "e9e350a7",
   "metadata": {},
   "source": []
  },
  {
   "cell_type": "code",
   "execution_count": 580,
   "id": "e3b55f4c",
   "metadata": {},
   "outputs": [],
   "source": [
    "# Klasifikasi Data Latih\n",
    "MasaKerjaLatih = getClassifyMasaKerja(datalatih['MasaKerja'])\n",
    "UsiaLatih = getClassifyUsia(datalatih['Usia'])\n",
    "NilaiPelatihanLatih = getClassifyNilaiPelatihan(datalatih['NilaiPelatihan'])\n",
    "NilaiKinerjaLatih = getClassifyNilaiKinerja(datalatih['NilaiKinerja'])"
   ]
  },
  {
   "cell_type": "code",
   "execution_count": 581,
   "id": "e674ff80",
   "metadata": {},
   "outputs": [
    {
     "data": {
      "text/html": [
       "<div>\n",
       "<style scoped>\n",
       "    .dataframe tbody tr th:only-of-type {\n",
       "        vertical-align: middle;\n",
       "    }\n",
       "\n",
       "    .dataframe tbody tr th {\n",
       "        vertical-align: top;\n",
       "    }\n",
       "\n",
       "    .dataframe thead th {\n",
       "        text-align: right;\n",
       "    }\n",
       "</style>\n",
       "<table border=\"1\" class=\"dataframe\">\n",
       "  <thead>\n",
       "    <tr style=\"text-align: right;\">\n",
       "      <th></th>\n",
       "      <th>NamaPegawai</th>\n",
       "      <th>MasaKerja</th>\n",
       "      <th>Usia</th>\n",
       "      <th>NilaiPelatihan</th>\n",
       "      <th>NilaiKinerja</th>\n",
       "      <th>HasilEvaluasi</th>\n",
       "    </tr>\n",
       "  </thead>\n",
       "  <tbody>\n",
       "    <tr>\n",
       "      <th>0</th>\n",
       "      <td>BUDIANO</td>\n",
       "      <td>Supervisor</td>\n",
       "      <td>Tua</td>\n",
       "      <td>Sangat Baik</td>\n",
       "      <td>Kurang</td>\n",
       "      <td>NaN</td>\n",
       "    </tr>\n",
       "    <tr>\n",
       "      <th>1</th>\n",
       "      <td>SANTO</td>\n",
       "      <td>Supervisor</td>\n",
       "      <td>Muda</td>\n",
       "      <td>Baik</td>\n",
       "      <td>Kurang</td>\n",
       "      <td>NaN</td>\n",
       "    </tr>\n",
       "    <tr>\n",
       "      <th>2</th>\n",
       "      <td>SAFERO</td>\n",
       "      <td>Supervisor</td>\n",
       "      <td>Muda</td>\n",
       "      <td>Baik</td>\n",
       "      <td>Baik</td>\n",
       "      <td>NaN</td>\n",
       "    </tr>\n",
       "    <tr>\n",
       "      <th>3</th>\n",
       "      <td>MARHAM</td>\n",
       "      <td>Manager</td>\n",
       "      <td>Tua</td>\n",
       "      <td>Sangat Baik</td>\n",
       "      <td>Sangat Baik</td>\n",
       "      <td>NaN</td>\n",
       "    </tr>\n",
       "    <tr>\n",
       "      <th>4</th>\n",
       "      <td>RIANTO</td>\n",
       "      <td>Supervisor</td>\n",
       "      <td>Tua</td>\n",
       "      <td>Kurang</td>\n",
       "      <td>Kurang</td>\n",
       "      <td>NaN</td>\n",
       "    </tr>\n",
       "  </tbody>\n",
       "</table>\n",
       "</div>"
      ],
      "text/plain": [
       "  NamaPegawai   MasaKerja  Usia NilaiPelatihan NilaiKinerja  HasilEvaluasi\n",
       "0     BUDIANO  Supervisor   Tua    Sangat Baik       Kurang            NaN\n",
       "1       SANTO  Supervisor  Muda           Baik       Kurang            NaN\n",
       "2      SAFERO  Supervisor  Muda           Baik         Baik            NaN\n",
       "3      MARHAM     Manager   Tua    Sangat Baik  Sangat Baik            NaN\n",
       "4      RIANTO  Supervisor   Tua         Kurang       Kurang            NaN"
      ]
     },
     "execution_count": 581,
     "metadata": {},
     "output_type": "execute_result"
    }
   ],
   "source": [
    "# Add Classified Data Latih Frame\n",
    "\n",
    "dataLatihAfterClassify = pandas.DataFrame({  'NamaPegawai': datalatih['NamaPegawai'],\n",
    "                                        'MasaKerja': MasaKerjaLatih,\n",
    "                                        'Usia': UsiaLatih,\n",
    "                                        'NilaiPelatihan': NilaiPelatihanLatih,\n",
    "                                        'NilaiKinerja': NilaiKinerjaLatih,\n",
    "                                        'HasilEvaluasi': datalatih['HasilEvaluasi']\n",
    "                                    })\n",
    "dataLatihAfterClassify"
   ]
  },
  {
   "cell_type": "code",
   "execution_count": 582,
   "id": "bd86007c",
   "metadata": {},
   "outputs": [],
   "source": [
    "# Find P(X|H) "
   ]
  },
  {
   "cell_type": "code",
   "execution_count": 583,
   "id": "c350c1da",
   "metadata": {},
   "outputs": [],
   "source": [
    "# cek Ciri Masa Kerja\n",
    "def CiriMasaKerjaPromosi(MasaKerja):\n",
    "    PXH = 0\n",
    "    if MasaKerja == \"Junior\":\n",
    "        PXH = PXH_Junior_Promosi\n",
    "    if MasaKerja == \"Supervisor\":\n",
    "        PXH = PXH_Supervisor_Promosi\n",
    "    if MasaKerja == \"Manager\":\n",
    "        PXH = PXH_Manager_Promosi\n",
    "    return PXH\n",
    "def CiriMasaKerjaMutasi(MasaKerja):\n",
    "    PXH = 0\n",
    "    if MasaKerja == \"Junior\":\n",
    "        PXH = PXH_Junior_Mutasi\n",
    "    if MasaKerja == \"Supervisor\":\n",
    "        PXH = PXH_Supervisor_Mutasi\n",
    "    if MasaKerja == \"Manager\":\n",
    "        PXH = PXH_Manager_Mutasi\n",
    "    return PXH\n",
    "def CiriMasaKerjaPHK(MasaKerja):\n",
    "    PXH = 0\n",
    "    if MasaKerja == \"Junior\":\n",
    "        PXH = PXH_Junior_PHK\n",
    "    if MasaKerja == \"Supervisor\":\n",
    "        PXH = PXH_Supervisor_PHK\n",
    "    if MasaKerja == \"Manager\":\n",
    "        PXH = PXH_Manager_PHK\n",
    "    return PXH\n"
   ]
  },
  {
   "cell_type": "code",
   "execution_count": 584,
   "id": "187e4674",
   "metadata": {},
   "outputs": [],
   "source": [
    "# cek Ciri Usia\n",
    "def CiriUsiaPromosi(Usia):\n",
    "    PXH = 0\n",
    "    if Usia == \"Tua\":\n",
    "        PXH = PXH_Tua_Promosi\n",
    "    if Usia == \"Paruhbaya\":\n",
    "        PXH = PXH_Paruhbaya_Promosi\n",
    "    if Usia == \"Muda\":\n",
    "        PXH = PXH_Muda_Promosi\n",
    "    return PXH\n",
    "def CiriUsiaMutasi(Usia):\n",
    "    PXH = 0\n",
    "    if Usia == \"Tua\":\n",
    "        PXH = PXH_Tua_Mutasi\n",
    "    if Usia == \"Paruhbaya\":\n",
    "        PXH = PXH_Paruhbaya_Mutasi\n",
    "    if Usia == \"Muda\":\n",
    "        PXH = PXH_Muda_Mutasi\n",
    "    return PXH\n",
    "def CiriUsiaPHK(Usia):\n",
    "    PXH = 0\n",
    "    if Usia == \"Tua\":\n",
    "        PXH = PXH_Tua_PHK\n",
    "    if Usia == \"Paruhbaya\":\n",
    "        PXH = PXH_Paruhbaya_PHK\n",
    "    if Usia == \"Muda\":\n",
    "        PXH = PXH_Muda_PHK\n",
    "    return PXH"
   ]
  },
  {
   "cell_type": "code",
   "execution_count": 585,
   "id": "7e21cfc2",
   "metadata": {},
   "outputs": [],
   "source": [
    "# cek Ciri NilaiPelatihan\n",
    "def CiriNilaiPelatihanPromosi(NilaiPelatihan):\n",
    "    PXH = 0\n",
    "    if NilaiPelatihan == \"Kurang\":\n",
    "        PXH = PXH_Pelatihan_Kurang_Promosi\n",
    "    if NilaiPelatihan == \"Baik\":\n",
    "        PXH = PXH_Pelatihan_Baik_Promosi\n",
    "    if NilaiPelatihan == \"Sangat Baik\":\n",
    "        PXH = PXH_Pelatihan_SangatBaik_Promosi\n",
    "    return PXH\n",
    "def CiriNilaiPelatihanMutasi(NilaiPelatihan):\n",
    "    PXH = 0\n",
    "    if NilaiPelatihan == \"Kurang\":\n",
    "        PXH = PXH_Pelatihan_Kurang_Mutasi\n",
    "    if NilaiPelatihan == \"Baik\":\n",
    "        PXH = PXH_Pelatihan_Baik_Mutasi\n",
    "    if NilaiPelatihan == \"Sangat Baik\":\n",
    "        PXH = PXH_Pelatihan_SangatBaik_Mutasi\n",
    "    return PXH\n",
    "def CiriNilaiPelatihanPHK(NilaiPelatihan):\n",
    "    PXH = 0\n",
    "    if NilaiPelatihan == \"Kurang\":\n",
    "        PXH = PXH_Pelatihan_Kurang_PHK\n",
    "    if NilaiPelatihan == \"Baik\":\n",
    "        PXH = PXH_Pelatihan_Baik_PHK\n",
    "    if NilaiPelatihan == \"Sangat Baik\":\n",
    "        PXH = PXH_Pelatihan_SangatBaik_PHK\n",
    "    return PXH"
   ]
  },
  {
   "cell_type": "code",
   "execution_count": 586,
   "id": "d08f74fc",
   "metadata": {},
   "outputs": [],
   "source": [
    "# cek Ciri NilaiKinerja\n",
    "def CiriNilaiKinerjaPromosi(NilaiKinerja):\n",
    "    PXH = 0\n",
    "    if NilaiKinerja == \"Kurang\":\n",
    "        PXH = PXH_Kinerja_Kurang_Promosi\n",
    "    if NilaiKinerja == \"Baik\":\n",
    "        PXH = PXH_Kinerja_Baik_Promosi\n",
    "    if NilaiKinerja == \"Sangat Baik\":\n",
    "        PXH = PXH_Kinerja_SangatBaik_Promosi\n",
    "    return PXH\n",
    "def CiriNilaiKinerjaMutasi(NilaiKinerja):\n",
    "    PXH = 0\n",
    "    if NilaiKinerja == \"Kurang\":\n",
    "        PXH = PXH_Kinerja_Kurang_Mutasi\n",
    "    if NilaiKinerja == \"Baik\":\n",
    "        PXH = PXH_Kinerja_Baik_Mutasi\n",
    "    if NilaiKinerja == \"Sangat Baik\":\n",
    "        PXH = PXH_Kinerja_SangatBaik_Mutasi\n",
    "    return PXH\n",
    "def CiriNilaiKinerjaPHK(NilaiKinerja):\n",
    "    PXH = 0\n",
    "    if NilaiKinerja == \"Kurang\":\n",
    "        PXH = PXH_Kinerja_Kurang_PHK\n",
    "    if NilaiKinerja == \"Baik\":\n",
    "        PXH = PXH_Kinerja_Baik_PHK\n",
    "    if NilaiKinerja == \"Sangat Baik\":\n",
    "        PXH = PXH_Kinerja_SangatBaik_PHK\n",
    "    return PXH"
   ]
  },
  {
   "cell_type": "code",
   "execution_count": 587,
   "id": "50da7b35",
   "metadata": {},
   "outputs": [],
   "source": [
    "# Mencari P(X|H) Total\n",
    "def PXH_Total(PXH_MasaKerja, PXH_Usia, PXH_NilaiPelatihan, PXH_NilaiKinerja):\n",
    "    PXH_Total = PXH_MasaKerja * PXH_Usia * PXH_NilaiPelatihan * PXH_NilaiKinerja\n",
    "    return float(\"{:.3f}\".format(PXH_Total))"
   ]
  },
  {
   "cell_type": "code",
   "execution_count": 588,
   "id": "95166fe2",
   "metadata": {},
   "outputs": [],
   "source": [
    "# Find P(X)   "
   ]
  },
  {
   "cell_type": "code",
   "execution_count": 589,
   "metadata": {},
   "outputs": [
    {
     "data": {
      "text/plain": [
       "float"
      ]
     },
     "execution_count": 589,
     "metadata": {},
     "output_type": "execute_result"
    }
   ],
   "source": [
    "# cek PX Pada Ciri\n",
    "def PXMasaKerja(MasaKerja):\n",
    "    PX = 0\n",
    "    if MasaKerja == \"Junior\":\n",
    "        PX = PX_Junior\n",
    "    else:\n",
    "        if MasaKerja == \"Supervisor\":\n",
    "            PX = PX_Supervisor\n",
    "        else:\n",
    "            if MasaKerja == \"Manager\":\n",
    "                PX = PX_Manager\n",
    "    return PX\n",
    "def PXUsia(Usia):\n",
    "    PX = 0\n",
    "    if Usia == \"Tua\":\n",
    "        PX = PX_Tua\n",
    "    if Usia == \"Paruhbaya\":\n",
    "        PX = PX_Paruhbaya\n",
    "    if Usia == \"Muda\":\n",
    "        PX = PX_Muda\n",
    "    return PX\n",
    "def PXNilaiPelatihan(NilaiPelatihan):\n",
    "    PX = 0\n",
    "    if NilaiPelatihan == \"Kurang\":\n",
    "        PX = PX_Kurang\n",
    "    if NilaiPelatihan == \"Baik\":\n",
    "        PX = PX_Baik\n",
    "    if NilaiPelatihan == \"Sangat Baik\":\n",
    "        PX = PX_SangatBaik\n",
    "    return PX\n",
    "def PXNilaiKinerja(NilaiKinerja):\n",
    "    PX = 0\n",
    "    if NilaiKinerja == \"Kurang\":\n",
    "        PX = PX_Kinerja_Kurang\n",
    "    if NilaiKinerja == \"Baik\":\n",
    "        PX = PX_Kinerja_Baik\n",
    "    if NilaiKinerja == \"Sangat Baik\":\n",
    "        PX = PX_Kinerja_SangatBaik\n",
    "    return PX\n",
    "type(PXMasaKerja(dataLatihAfterClassify.loc[1][\"MasaKerja\"]))"
   ]
  },
  {
   "cell_type": "code",
   "execution_count": 590,
   "id": "a60c6e70",
   "metadata": {},
   "outputs": [],
   "source": [
    "# Mencari PX Total\n",
    "def PX_Total(PXMasaKerja,PXUsia,PXNilaiPelatihan,PXNilaiKinerja):\n",
    "    total = PXMasaKerja * PXUsia * PXNilaiPelatihan * PXNilaiKinerja\n",
    "    return float(\"{:.2f}\".format(total))"
   ]
  },
  {
   "cell_type": "code",
   "execution_count": 591,
   "id": "12f8726d",
   "metadata": {},
   "outputs": [],
   "source": [
    "# Mencari P(H|X) Function\n",
    "def PHX(PXH, PH, PX):\n",
    "    PHX = (PXH * PH) / PX\n",
    "    return float(\"{:.3f}\".format(PHX))"
   ]
  },
  {
   "cell_type": "code",
   "execution_count": 592,
   "id": "fc0ba9fc",
   "metadata": {},
   "outputs": [],
   "source": [
    "# Mencari Hasil Evaluasi\n",
    "def getHasilEvaluasi(PHX_Promosi, PHX_Mutasi, PHX_PHK):\n",
    "    Promosi = PHX_Promosi\n",
    "    Mutasi = PHX_Mutasi\n",
    "    phk = PHX_PHK\n",
    "    HasilEvaluasi = \"\"\n",
    "    if Promosi > Mutasi:\n",
    "        if Promosi > phk:\n",
    "            HasilEvaluasi = \"Promosi\"\n",
    "        else:\n",
    "            HasilEvaluasi = \"PHK\"\n",
    "    else:\n",
    "        if Mutasi > phk:\n",
    "            HasilEvaluasi = \"Mutasi\"\n",
    "        else:\n",
    "            HasilEvaluasi = \"PHK\"\n",
    "    return HasilEvaluasi\n",
    "\n",
    "# getHasilEvaluasi(1000, 200 , 30)"
   ]
  },
  {
   "cell_type": "code",
   "execution_count": 593,
   "id": "cd162d06",
   "metadata": {},
   "outputs": [],
   "source": [
    "\n",
    "# def test():\n",
    "#     i = 0\n",
    "#     while i < len(dataLatihAfterClassify):\n",
    "#         # Inisiasi Baris \n",
    "\n",
    "#         MasaKerja = dataLatihAfterClassify.loc[i][\"MasaKerja\"]\n",
    "#         Usia = dataLatihAfterClassify.loc[i][\"Usia\"]\n",
    "#         NilaiPelatihan = dataLatihAfterClassify.loc[i][\"NilaiPelatihan\"]\n",
    "#         NilaiKinerja = dataLatihAfterClassify.loc[i][\"NilaiKinerja\"]\n",
    "#         # print(\"Masa Kerja = \", MasaKerja, \"Usia = \", Usia, \"NilaiPel = \", NilaiPelatihan,\"NilaiKer = \", NilaiKinerja )\n",
    "#         # Inisiasi PX Total_Data\n",
    "#         PX_MasaKerja = PXMasaKerja(MasaKerja)\n",
    "#         PX_Usia = PXUsia(Usia)\n",
    "#         PX_NilaiPelatihan = PXNilaiPelatihan(NilaiPelatihan)\n",
    "#         PX_NilaiKinerja = PXNilaiKinerja(NilaiKinerja)\n",
    "#         PX = PX_Total(PX_MasaKerja, PX_Usia, PX_NilaiPelatihan, PX_NilaiKinerja)\n",
    "#         print(PX)\n",
    "#         i = i + 1\n",
    "# test()\n"
   ]
  },
  {
   "cell_type": "markdown",
   "id": "7c7b4095",
   "metadata": {},
   "source": []
  },
  {
   "cell_type": "code",
   "execution_count": 594,
   "id": "063683bd",
   "metadata": {},
   "outputs": [
    {
     "data": {
      "text/plain": [
       "['Promosi', 'Promosi', 'Mutasi', 'Mutasi', 'PHK']"
      ]
     },
     "execution_count": 594,
     "metadata": {},
     "output_type": "execute_result"
    }
   ],
   "source": [
    "# Main Function\n",
    "def NaiveBaiyes():\n",
    "    HasilEvaluasi = []\n",
    "    i = 0\n",
    "    while i < len(dataLatihAfterClassify):\n",
    "        # Inisiasi Baris \n",
    "\n",
    "        MasaKerja = dataLatihAfterClassify.loc[i][\"MasaKerja\"]\n",
    "        Usia = dataLatihAfterClassify.loc[i][\"Usia\"]\n",
    "        NilaiPelatihan = dataLatihAfterClassify.loc[i][\"NilaiPelatihan\"]\n",
    "        NilaiKinerja = dataLatihAfterClassify.loc[i][\"NilaiKinerja\"]\n",
    "\n",
    "        # Inisiasi PX Total_Data\n",
    "        PX = PX_Total(PXMasaKerja(MasaKerja),\n",
    "                            PXUsia(Usia),\n",
    "                            PXNilaiPelatihan(NilaiPelatihan),\n",
    "                            PXNilaiKinerja(NilaiKinerja))\n",
    "\n",
    "        # Cek Promosi\n",
    "        PXHMasaKerjaPromosi = CiriMasaKerjaPromosi(MasaKerja)\n",
    "        PXHUsiaPromosi = CiriUsiaPromosi(Usia)\n",
    "        PXHNilaiPelatihanPromosi = CiriNilaiPelatihanPromosi(NilaiPelatihan)\n",
    "        PXHNilaiKinerjaPromosi = CiriNilaiKinerjaPromosi(NilaiKinerja)\n",
    "        PXHPromosi_Total = PXH_Total(PXHMasaKerjaPromosi , PXHUsiaPromosi , PXHNilaiPelatihanPromosi , PXHNilaiKinerjaPromosi)\n",
    "        PH = PH_Promosi\n",
    "        PHX_Promosi = PHX(PXHPromosi_Total, PH, PX)\n",
    "        \n",
    "        #Cek Mutasi\n",
    "        PXHMasaKerjaMutasi = CiriMasaKerjaMutasi(MasaKerja)\n",
    "        PXHUsiaMutasi = CiriUsiaMutasi(Usia)\n",
    "        PXHNilaiPelatihanMutasi = CiriNilaiPelatihanMutasi(NilaiPelatihan)\n",
    "        PXHNilaiKinerjaMutasi = CiriNilaiKinerjaMutasi(NilaiKinerja)\n",
    "        PXHMutasi_Total = PXH_Total(PXHMasaKerjaMutasi , PXHUsiaMutasi , PXHNilaiPelatihanMutasi , PXHNilaiKinerjaMutasi)\n",
    "        PH = PH_Mutasi\n",
    "        PHX_Mutasi = PHX(PXHMutasi_Total, PH, PX)\n",
    "        \n",
    "        # Cek PHK\n",
    "        PXHMasaKerjaPHK = CiriMasaKerjaPHK(MasaKerja)\n",
    "        PXHUsiaPHK = CiriUsiaPHK(Usia)\n",
    "        PXHNilaiPelatihanPHK = CiriNilaiPelatihanPHK(NilaiPelatihan)\n",
    "        PXHNilaiKinerjaPHK = CiriNilaiKinerjaPHK(NilaiKinerja)\n",
    "        PXHPHK_Total = PXH_Total(PXHMasaKerjaPHK , PXHUsiaPHK , PXHNilaiPelatihanPHK , PXHNilaiKinerjaPHK)\n",
    "        PH = PH_phk\n",
    "        PHX_PHK = PHX(PXHPHK_Total, PH, PX)\n",
    "        # Save to HasilEvaluasi List\n",
    "        HasilEvaluasi.append(getHasilEvaluasi(PHX_Promosi, PHX_Mutasi, PHX_PHK))\n",
    "\n",
    "        i = i + 1\n",
    "    \n",
    "    \n",
    "    return HasilEvaluasi\n",
    "NaiveBaiyes()"
   ]
  },
  {
   "cell_type": "code",
   "execution_count": 595,
   "metadata": {},
   "outputs": [],
   "source": [
    "\n",
    "# Main Function\n",
    "def Main(data):  \n",
    "    dataFinal = pandas.DataFrame({  'NamaPegawai': datalatih['NamaPegawai'],\n",
    "                                        'MasaKerja': MasaKerjaLatih,\n",
    "                                        'Usia': UsiaLatih,\n",
    "                                        'NilaiPelatihan': NilaiPelatihanLatih,\n",
    "                                        'NilaiKinerja': NilaiKinerjaLatih,\n",
    "                                        'HasilEvaluasi': data\n",
    "                                    })\n",
    "    return dataFinal"
   ]
  },
  {
   "cell_type": "code",
   "execution_count": 596,
   "id": "903ef488",
   "metadata": {},
   "outputs": [
    {
     "data": {
      "text/html": [
       "<div>\n",
       "<style scoped>\n",
       "    .dataframe tbody tr th:only-of-type {\n",
       "        vertical-align: middle;\n",
       "    }\n",
       "\n",
       "    .dataframe tbody tr th {\n",
       "        vertical-align: top;\n",
       "    }\n",
       "\n",
       "    .dataframe thead th {\n",
       "        text-align: right;\n",
       "    }\n",
       "</style>\n",
       "<table border=\"1\" class=\"dataframe\">\n",
       "  <thead>\n",
       "    <tr style=\"text-align: right;\">\n",
       "      <th></th>\n",
       "      <th>NamaPegawai</th>\n",
       "      <th>MasaKerja</th>\n",
       "      <th>Usia</th>\n",
       "      <th>NilaiPelatihan</th>\n",
       "      <th>NilaiKinerja</th>\n",
       "      <th>HasilEvaluasi</th>\n",
       "    </tr>\n",
       "  </thead>\n",
       "  <tbody>\n",
       "    <tr>\n",
       "      <th>0</th>\n",
       "      <td>BUDIANO</td>\n",
       "      <td>Supervisor</td>\n",
       "      <td>Tua</td>\n",
       "      <td>Sangat Baik</td>\n",
       "      <td>Kurang</td>\n",
       "      <td>Promosi</td>\n",
       "    </tr>\n",
       "    <tr>\n",
       "      <th>1</th>\n",
       "      <td>SANTO</td>\n",
       "      <td>Supervisor</td>\n",
       "      <td>Muda</td>\n",
       "      <td>Baik</td>\n",
       "      <td>Kurang</td>\n",
       "      <td>Promosi</td>\n",
       "    </tr>\n",
       "    <tr>\n",
       "      <th>2</th>\n",
       "      <td>SAFERO</td>\n",
       "      <td>Supervisor</td>\n",
       "      <td>Muda</td>\n",
       "      <td>Baik</td>\n",
       "      <td>Baik</td>\n",
       "      <td>Mutasi</td>\n",
       "    </tr>\n",
       "    <tr>\n",
       "      <th>3</th>\n",
       "      <td>MARHAM</td>\n",
       "      <td>Manager</td>\n",
       "      <td>Tua</td>\n",
       "      <td>Sangat Baik</td>\n",
       "      <td>Sangat Baik</td>\n",
       "      <td>Mutasi</td>\n",
       "    </tr>\n",
       "    <tr>\n",
       "      <th>4</th>\n",
       "      <td>RIANTO</td>\n",
       "      <td>Supervisor</td>\n",
       "      <td>Tua</td>\n",
       "      <td>Kurang</td>\n",
       "      <td>Kurang</td>\n",
       "      <td>PHK</td>\n",
       "    </tr>\n",
       "  </tbody>\n",
       "</table>\n",
       "</div>"
      ],
      "text/plain": [
       "  NamaPegawai   MasaKerja  Usia NilaiPelatihan NilaiKinerja HasilEvaluasi\n",
       "0     BUDIANO  Supervisor   Tua    Sangat Baik       Kurang       Promosi\n",
       "1       SANTO  Supervisor  Muda           Baik       Kurang       Promosi\n",
       "2      SAFERO  Supervisor  Muda           Baik         Baik        Mutasi\n",
       "3      MARHAM     Manager   Tua    Sangat Baik  Sangat Baik        Mutasi\n",
       "4      RIANTO  Supervisor   Tua         Kurang       Kurang           PHK"
      ]
     },
     "execution_count": 596,
     "metadata": {},
     "output_type": "execute_result"
    }
   ],
   "source": [
    "# Call All Process \n",
    "\n",
    "Main(NaiveBaiyes())"
   ]
  }
 ],
 "metadata": {
  "kernelspec": {
   "display_name": "Python 3 (ipykernel)",
   "language": "python",
   "name": "python3"
  },
  "language_info": {
   "codemirror_mode": {
    "name": "ipython",
    "version": 3
   },
   "file_extension": ".py",
   "mimetype": "text/x-python",
   "name": "python",
   "nbconvert_exporter": "python",
   "pygments_lexer": "ipython3",
   "version": "3.10.2"
  }
 },
 "nbformat": 4,
 "nbformat_minor": 5
}
